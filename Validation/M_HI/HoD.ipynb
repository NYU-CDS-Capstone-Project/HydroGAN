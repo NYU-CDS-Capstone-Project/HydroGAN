{
 "cells": [
  {
   "cell_type": "code",
   "execution_count": 35,
   "metadata": {},
   "outputs": [],
   "source": [
    "from __future__ import print_function\n",
    "import numpy as np\n",
    "import os\n",
    "import h5py\n",
    "import random\n",
    "import itertools\n",
    "import pandas as pd\n",
    "import numpy as np\n",
    "from collections import defaultdict\n",
    "import pyfftw\n",
    "import Pk_library as PKL\n",
    "\n",
    "device = torch.device(\"cuda\" if torch.cuda.is_available() else \"cpu\")"
   ]
  },
  {
   "cell_type": "code",
   "execution_count": 2,
   "metadata": {},
   "outputs": [
    {
     "data": {
      "text/plain": [
       "device(type='cuda')"
      ]
     },
     "execution_count": 2,
     "metadata": {},
     "output_type": "execute_result"
    }
   ],
   "source": [
    "device"
   ]
  },
  {
   "cell_type": "markdown",
   "metadata": {},
   "source": [
    "## Part 1: Read Catalogue Files"
   ]
  },
  {
   "cell_type": "code",
   "execution_count": 73,
   "metadata": {},
   "outputs": [],
   "source": [
    "def read_halo_file(catalogue_path = \"halo_catalogues/\",\n",
    "                   redshift = 0,\n",
    "                  ):\n",
    "    path = \"{}Halo_catalogue_z={}.hdf5\".format(catalogue_path, \n",
    "                                                redshift)\n",
    "    \n",
    "    f = h5py.File(path)\n",
    "    \n",
    "    mass = f[\"mass\"]\n",
    "    position = f[\"pos\"]\n",
    "    radius = f[\"radius\"]\n",
    "    \n",
    "    return mass, position, radius"
   ]
  },
  {
   "cell_type": "code",
   "execution_count": 74,
   "metadata": {},
   "outputs": [],
   "source": [
    "def build_redshift_vocab(catalogue_path = None,\n",
    "                         redshift_list = range(6)):\n",
    "    \n",
    "    halo_data = {}\n",
    "    \n",
    "    for r in redshift_list:\n",
    "        halo_data[r] = read_halo_file(catalogue_path= \"halo_catalogues/\",\n",
    "                                       redshift = r)\n",
    "        \n",
    "    return halo_data"
   ]
  },
  {
   "cell_type": "code",
   "execution_count": 75,
   "metadata": {},
   "outputs": [],
   "source": [
    "mass_z0, position_z0, radius_z0 = read_halo_file(\"halo_catalogues/\", 0)"
   ]
  },
  {
   "cell_type": "code",
   "execution_count": 76,
   "metadata": {},
   "outputs": [],
   "source": [
    "halo_data = build_redshift_vocab(catalogue_path = \"halo_catalogues/\", redshift_list = range(6))"
   ]
  },
  {
   "cell_type": "markdown",
   "metadata": {},
   "source": [
    "## Part 2: Compute $M_{HI}$ for Given $M$\n",
    "\n",
    "$$ M_{HI}(M, z) = M_0 (\\frac{M}{M_{min}})^{\\alpha}exp(-(\\frac{M_{min}}{M})^{0.35}) $$"
   ]
  },
  {
   "cell_type": "markdown",
   "metadata": {},
   "source": [
    "#### FoF Halos\n",
    "\n",
    "\"Friends-of-Friends\""
   ]
  },
  {
   "cell_type": "code",
   "execution_count": 51,
   "metadata": {},
   "outputs": [],
   "source": [
    "num_redshifts = 5\n",
    "param_data_fof = defaultdict(dict)\n",
    "\n",
    "# lookup tables indexed by redshift\n",
    "alpha_param_fof = [0.24,0.53,0.6,0.76,0.79,0.74]\n",
    "m_0_fof = [4.3*1e10, 1.5*1e10, 1.3*1e10, 2.9*1e9, 1.4*1e9, 1.9*1e9]\n",
    "m_min_fof = [2*1e12, 6*1e11, 3.6*1e11, 6.7*1e10, 2.1*1e10, 2*1e10]\n",
    "m_hard_fof = [1.5*1e10, 6.9*1e9, 3.1*1e9, 9.9*1e8, 3.9*1e8, 2.7*1e8]\n",
    "\n",
    "for r in range(num_redshifts + 1):\n",
    "    param_data_fof[r][\"alpha\"] = alpha_param_fof[r]\n",
    "    param_data_fof[r][\"m_0\"] = m_0_fof[r]\n",
    "    param_data_fof[r][\"m_min\"] = m_min_fof[r]\n",
    "    param_data_fof[r][\"m_hard\"] = m_hard_fof[r]"
   ]
  },
  {
   "cell_type": "code",
   "execution_count": 52,
   "metadata": {},
   "outputs": [
    {
     "data": {
      "text/plain": [
       "defaultdict(dict,\n",
       "            {0: {'alpha': 0.24,\n",
       "              'm_0': 43000000000.0,\n",
       "              'm_min': 2000000000000.0,\n",
       "              'm_hard': 15000000000.0},\n",
       "             1: {'alpha': 0.53,\n",
       "              'm_0': 15000000000.0,\n",
       "              'm_min': 600000000000.0,\n",
       "              'm_hard': 6900000000.0},\n",
       "             2: {'alpha': 0.6,\n",
       "              'm_0': 13000000000.0,\n",
       "              'm_min': 360000000000.0,\n",
       "              'm_hard': 3100000000.0},\n",
       "             3: {'alpha': 0.76,\n",
       "              'm_0': 2900000000.0,\n",
       "              'm_min': 67000000000.0,\n",
       "              'm_hard': 990000000.0},\n",
       "             4: {'alpha': 0.79,\n",
       "              'm_0': 1400000000.0,\n",
       "              'm_min': 21000000000.0,\n",
       "              'm_hard': 390000000.0},\n",
       "             5: {'alpha': 0.74,\n",
       "              'm_0': 1900000000.0,\n",
       "              'm_min': 20000000000.0,\n",
       "              'm_hard': 270000000.0}})"
      ]
     },
     "execution_count": 52,
     "metadata": {},
     "output_type": "execute_result"
    }
   ],
   "source": [
    "param_data_fof"
   ]
  },
  {
   "cell_type": "markdown",
   "metadata": {},
   "source": [
    "#### FoF-SO Halos\n",
    "\n",
    "\"Friends-of-Friends Spherical Overdensity\""
   ]
  },
  {
   "cell_type": "code",
   "execution_count": 53,
   "metadata": {},
   "outputs": [],
   "source": [
    "num_redshifts = 5\n",
    "param_data_fofso = defaultdict(dict)\n",
    "\n",
    "# lookup tables indexed by redshift\n",
    "alpha_param_fofso = [0.16, 0.43, 0.51, 0.69, 0.61, 0.59]\n",
    "m_0_fofso = [4.1*1e10, 1.8*1e10, 1.5*1e10, 3.7*1e9, 4.5*1e9, 4.1*1e9]\n",
    "m_min_fofso = [2.4*1e12, 8.6*1e11, 4.6*1e11, 9.6*1e10, 7.6*1e10, 5.4*1e10]\n",
    "m_hard_fofso = [1.3*1e10, 6.1*1e9, 2.5*1e9, 7.6*1e8, 2.3*1e8, 1.7*1e8]\n",
    "\n",
    "for r in range(num_redshifts + 1):\n",
    "    param_data_fofso[r][\"alpha\"] = alpha_param_fofso[r]\n",
    "    param_data_fofso[r][\"m_0\"] = m_0_fofso[r]\n",
    "    param_data_fofso[r][\"m_min\"] = m_min_fofso[r]\n",
    "    param_data_fofso[r][\"m_hard\"] = m_hard_fofso[r]"
   ]
  },
  {
   "cell_type": "code",
   "execution_count": 54,
   "metadata": {},
   "outputs": [
    {
     "data": {
      "text/plain": [
       "defaultdict(dict,\n",
       "            {0: {'alpha': 0.16,\n",
       "              'm_0': 41000000000.0,\n",
       "              'm_min': 2400000000000.0,\n",
       "              'm_hard': 13000000000.0},\n",
       "             1: {'alpha': 0.43,\n",
       "              'm_0': 18000000000.0,\n",
       "              'm_min': 860000000000.0,\n",
       "              'm_hard': 6100000000.0},\n",
       "             2: {'alpha': 0.51,\n",
       "              'm_0': 15000000000.0,\n",
       "              'm_min': 459999999999.99994,\n",
       "              'm_hard': 2500000000.0},\n",
       "             3: {'alpha': 0.69,\n",
       "              'm_0': 3700000000.0,\n",
       "              'm_min': 96000000000.0,\n",
       "              'm_hard': 760000000.0},\n",
       "             4: {'alpha': 0.61,\n",
       "              'm_0': 4500000000.0,\n",
       "              'm_min': 76000000000.0,\n",
       "              'm_hard': 229999999.99999997},\n",
       "             5: {'alpha': 0.59,\n",
       "              'm_0': 4099999999.9999995,\n",
       "              'm_min': 54000000000.0,\n",
       "              'm_hard': 170000000.0}})"
      ]
     },
     "execution_count": 54,
     "metadata": {},
     "output_type": "execute_result"
    }
   ],
   "source": [
    "param_data_fofso"
   ]
  },
  {
   "cell_type": "markdown",
   "metadata": {},
   "source": [
    "#### $M_{HI}$ Function: $$ M_{HI}(M, z) = M_0 (\\frac{M}{M_{min}})^{\\alpha}exp(-(\\frac{M_{min}}{M})^{0.35}) $$"
   ]
  },
  {
   "cell_type": "code",
   "execution_count": 85,
   "metadata": {},
   "outputs": [],
   "source": [
    "def MHI(m = None, redshift = 0, param_dict = param_data_fof):\n",
    "    \n",
    "    \"\"\"Args:\n",
    "    \n",
    "    - m: (int) representing M, total mass in a given position,\n",
    "    - redshift: (int) representing redshift\n",
    "    - param_dict: (dict) param_data_fof or param_data_fofso\n",
    "    \n",
    "       Returns:\n",
    "    \n",
    "    - m_hi: (float) M_HI, total hydrogen(I) mass in a given \n",
    "            position\n",
    "       \"\"\"\n",
    "    \n",
    "    assert m != None, \"Make sure to input M (mass)\"\n",
    "    assert redshift in range(6), \"Redshift should be an integer in interval [0,5]\"\n",
    "    \n",
    "    m_0, m_min = param_dict[redshift][\"m_0\"], param_dict[redshift][\"m_min\"]\n",
    "    alpha = param_dict[redshift][\"alpha\"]\n",
    "    \n",
    "    # hard cutoff\n",
    "    m_hard = param_dict[redshift][\"m_hard\"]\n",
    "    \n",
    "    x = m/m_min\n",
    "    \n",
    "    m_hi = m_0*(x**alpha)*(np.exp(-1*(1/x)**(0.35)))\n",
    "    \n",
    "    return m_hi"
   ]
  },
  {
   "cell_type": "markdown",
   "metadata": {},
   "source": [
    "### Compute $M_{HI}$ for Each Redshift"
   ]
  },
  {
   "cell_type": "code",
   "execution_count": 77,
   "metadata": {},
   "outputs": [],
   "source": [
    "def compute_mhi(redshift=None, dict_ = param_data_fof):\n",
    "    \n",
    "    assert redshift in range(6), \"Redshift should be an integer in interval [0,5]\"\n",
    "    \n",
    "    mass_data, position_data, radius_data = halo_data[redshift][0], halo_data[redshift][1], halo_data[redshift][2]\n",
    "    m_hi = [MHI(m, redshift = redshift, param_dict = dict_) for m in np.array(mass_data)]\n",
    "    return m_hi"
   ]
  },
  {
   "cell_type": "code",
   "execution_count": 93,
   "metadata": {},
   "outputs": [],
   "source": [
    "MHI_data = {}\n",
    "\n",
    "for r in range(num_redshifts+1):\n",
    "    MHI_data[r] = compute_mhi(redshift = r, dict_ = param_data_fof)"
   ]
  },
  {
   "cell_type": "code",
   "execution_count": 94,
   "metadata": {},
   "outputs": [
    {
     "data": {
      "text/plain": [
       "[4231400, 5081532, 5521701, 5587994, 5288375, 4693294]"
      ]
     },
     "execution_count": 94,
     "metadata": {},
     "output_type": "execute_result"
    }
   ],
   "source": [
    "[len(MHI_data[x]) for x in range(6)]"
   ]
  },
  {
   "cell_type": "code",
   "execution_count": 95,
   "metadata": {},
   "outputs": [],
   "source": [
    "for key in range(num_redshifts+1):\n",
    "    pd.DataFrame(MHI_data[key]).to_csv(\"MHI_z={}.csv\".format(key), index=False)"
   ]
  },
  {
   "cell_type": "code",
   "execution_count": null,
   "metadata": {},
   "outputs": [],
   "source": []
  },
  {
   "cell_type": "code",
   "execution_count": null,
   "metadata": {},
   "outputs": [],
   "source": []
  }
 ],
 "metadata": {
  "kernelspec": {
   "display_name": "Python 3",
   "language": "python",
   "name": "python3"
  },
  "language_info": {
   "codemirror_mode": {
    "name": "ipython",
    "version": 3
   },
   "file_extension": ".py",
   "mimetype": "text/x-python",
   "name": "python",
   "nbconvert_exporter": "python",
   "pygments_lexer": "ipython3",
   "version": "3.6.3"
  }
 },
 "nbformat": 4,
 "nbformat_minor": 2
}
