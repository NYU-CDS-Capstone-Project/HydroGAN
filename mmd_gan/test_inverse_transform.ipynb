{
 "cells": [
  {
   "cell_type": "code",
   "execution_count": 1,
   "metadata": {},
   "outputs": [
    {
     "name": "stderr",
     "output_type": "stream",
     "text": [
      "/share/apps/python3/3.6.3/intel/lib/python3.6/site-packages/h5py-2.7.1-py3.6-linux-x86_64.egg/h5py/__init__.py:36: FutureWarning: Conversion of the second argument of issubdtype from `float` to `np.floating` is deprecated. In future, it will be treated as `np.float64 == np.dtype(float).type`.\n",
      "  from ._conv import register_converters as _register_converters\n"
     ]
    }
   ],
   "source": [
    "import argparse\n",
    "import random\n",
    "import torch\n",
    "import torch.nn as nn\n",
    "import torch.nn.parallel\n",
    "import torch.backends.cudnn as cudnn\n",
    "import torch.utils.data\n",
    "import torchvision.utils as vutils\n",
    "from torch.autograd import Variable\n",
    "from torch.utils.data import Dataset, DataLoader\n",
    "import torch.nn.functional as F\n",
    "import os\n",
    "import h5py\n",
    "import timeit\n",
    "import time\n",
    "import numpy as np\n",
    "from scipy import stats\n",
    "import pickle as pkl\n",
    "from os import listdir\n",
    "from os.path import isfile, join\n",
    "\n"
   ]
  },
  {
   "cell_type": "code",
   "execution_count": 2,
   "metadata": {},
   "outputs": [
    {
     "name": "stdout",
     "output_type": "stream",
     "text": [
      "Run in Jupyter = True\n"
     ]
    }
   ],
   "source": [
    "run_in_jupyter = False\n",
    "try:\n",
    "    cfg = get_ipython().config \n",
    "    run_in_jupyter = True\n",
    "except:\n",
    "    run_in_jupyter = False\n",
    "    pass\n",
    "\n",
    "if run_in_jupyter:\n",
    "    import matplotlib.pyplot as plt\n",
    "    %matplotlib inline\n",
    "else: \n",
    "    import matplotlib\n",
    "    matplotlib.use('Agg')\n",
    "    import matplotlib.pyplot as plt\n",
    "    \n",
    "print(\"Run in Jupyter = \" + str(run_in_jupyter))"
   ]
  },
  {
   "cell_type": "code",
   "execution_count": 3,
   "metadata": {},
   "outputs": [],
   "source": [
    "import itertools\n",
    "from matplotlib.ticker import MultipleLocator\n",
    "from mpl_toolkits.mplot3d.art3d import Poly3DCollection\n",
    "import pandas as pd\n",
    "import numpy as np\n",
    "import matplotlib.pyplot as plt\n",
    "from mpl_toolkits.mplot3d import Axes3D\n",
    "from matplotlib import colors\n",
    "import h5py\n",
    "import matplotlib as mpl\n",
    "from pathlib import Path"
   ]
  },
  {
   "cell_type": "code",
   "execution_count": 4,
   "metadata": {},
   "outputs": [],
   "source": [
    "root_dir = \"./\"  # this goes to \n",
    "data_dir = \"../\"\n",
    "if run_in_jupyter:\n",
    "    experiment = root_dir + \"drive_output/\"       # : output directory of saved models\n",
    "else:\n",
    "    experiment = root_dir + \"mmd-jupyter/\"\n",
    "model_save_folder = experiment + \"model/\"\n",
    "redshift_fig_folder = experiment + \"figures/\"        # folder to save mmd & related plots\n",
    "redshift_3dfig_folder = experiment + \"/3d_figures/\"   # folder to save 3D plots\n",
    "testing_folder = experiment + \"testing/\"   # folder to save 3D plots\n",
    "\n",
    "save_model_every = 10               # (every x epoch) frequency to save the model\n"
   ]
  },
  {
   "cell_type": "code",
   "execution_count": 5,
   "metadata": {},
   "outputs": [],
   "source": [
    "workers = 2          # WORKERS: number of threads to load data\n",
    "redshift_info_folder = experiment + \"redshift_info/\"   # save some info here as pickle to speed up processing\n",
    "redshift_raw_file = \"fields_z=0.0.hdf5\"\n",
    "redshift_file = \"minmax_scale_01_redshift0.h5\"    # redshift cube to be used\n",
    "    # standardized_no_shift_redshift0.h5\n",
    "    # minmax_scale_01_redshift0.h5\n",
    "    # minmax_scale_neg11_redshift0.h5\n",
    "inverse_transform = \"minmax01\"    # minmax11 / minmaxneg11 / std_noshift / std"
   ]
  },
  {
   "cell_type": "code",
   "execution_count": 6,
   "metadata": {},
   "outputs": [],
   "source": [
    "if run_in_jupyter:\n",
    "    %run utils/data_utils.py\n",
    "else:\n",
    "    from utils.data_utils import *\n",
    "    \n",
    "if run_in_jupyter:\n",
    "    %run utils/plot_utils.py\n",
    "else:\n",
    "    from utils.plot_utils import *\n",
    "    \n",
    "if run_in_jupyter:\n",
    "    %run dataset.py\n",
    "else:\n",
    "    from dataset import *"
   ]
  },
  {
   "cell_type": "code",
   "execution_count": 7,
   "metadata": {},
   "outputs": [
    {
     "name": "stdout",
     "output_type": "stream",
     "text": [
      "\n",
      "Transformed Data Summary Statistics:\n",
      "File = minmax_scale_01_redshift0.h5\n",
      "Min of data = 0.0\n",
      "Max of data = 1.0\n",
      "Mean of data = 5.602617344322861e-07\n",
      "Stddev of data = 0.0001913798544188446\n",
      "\n",
      "Raw Data Summary Statistics:\n",
      "File = fields_z=0.0.hdf5\n",
      "Min of raw data = 0.0\n",
      "Max of raw data = 18153447000.0\n",
      "Mean of raw data = 10170.682\n",
      "Stddev of raw data = 3474200.8\n"
     ]
    }
   ],
   "source": [
    "min_cube,max_cube,mean_cube,stddev_cube = get_stats_cube(redshift_info_folder = redshift_info_folder,\n",
    "                                           redshift_file = redshift_file,\n",
    "                                           data_dir = data_dir)\n",
    "min_raw_cube,max_raw_cube,mean_raw_cube,stddev_raw_cube = get_stats_cube(redshift_info_folder = redshift_info_folder,\n",
    "                                           redshift_file = redshift_raw_file,\n",
    "                                           data_dir = data_dir)\n",
    "print(\"\\nTransformed Data Summary Statistics:\")\n",
    "print(\"File = \" + str(redshift_file))\n",
    "print(\"Min of data = \" + str(min_cube))\n",
    "print(\"Max of data = \" + str(max_cube))\n",
    "print(\"Mean of data = \" + str(mean_cube))\n",
    "print(\"Stddev of data = \" + str(stddev_cube))\n",
    "\n",
    "print(\"\\nRaw Data Summary Statistics:\")\n",
    "print(\"File = \" + str(redshift_raw_file))\n",
    "print(\"Min of raw data = \" + str(min_raw_cube))\n",
    "print(\"Max of raw data = \" + str(max_raw_cube))\n",
    "print(\"Mean of raw data = \" + str(mean_raw_cube))\n",
    "print(\"Stddev of raw data = \" + str(stddev_raw_cube))"
   ]
  },
  {
   "cell_type": "code",
   "execution_count": 8,
   "metadata": {},
   "outputs": [],
   "source": [
    "cube_size = 128\n",
    "edge_sample = cube_size\n",
    "edge_test = 1024\n",
    "n_samples = 128\n",
    "batch_size = 16"
   ]
  },
  {
   "cell_type": "code",
   "execution_count": 9,
   "metadata": {},
   "outputs": [
    {
     "name": "stdout",
     "output_type": "stream",
     "text": [
      "File used for analysis = ../minmax_scale_01_redshift0.h5\n"
     ]
    }
   ],
   "source": [
    "f = h5py.File(data_dir + redshift_file, 'r')\n",
    "print(\"File used for analysis = \" + str(f.filename))\n",
    "f = f['delta_HI']"
   ]
  },
  {
   "cell_type": "code",
   "execution_count": 10,
   "metadata": {},
   "outputs": [
    {
     "name": "stdout",
     "output_type": "stream",
     "text": [
      "File used for analysis = ../fields_z=0.0.hdf5\n"
     ]
    }
   ],
   "source": [
    "f_raw = h5py.File(data_dir + redshift_raw_file, 'r')\n",
    "print(\"File used for analysis = \" + str(f_raw.filename))\n",
    "f_raw = f_raw['delta_HI']"
   ]
  },
  {
   "cell_type": "code",
   "execution_count": 11,
   "metadata": {},
   "outputs": [],
   "source": [
    "raw_cube = f_raw[128:256,128:256,128:256]\n",
    "sampled_cube = f[128:256,128:256,128:256]"
   ]
  },
  {
   "cell_type": "code",
   "execution_count": 12,
   "metadata": {
    "scrolled": false
   },
   "outputs": [
    {
     "data": {
      "image/png": "[encoded data removed]",
      "text/plain": [
       "<matplotlib.figure.Figure at 0x2b38e0f380f0>"
      ]
     },
     "metadata": {
      "needs_background": "light"
     },
     "output_type": "display_data"
    }
   ],
   "source": [
    "_ = plt.hist(sampled_cube.reshape(-1),\n",
    "             log = False,\n",
    "             bins = 200)"
   ]
  },
  {
   "cell_type": "code",
   "execution_count": 13,
   "metadata": {
    "scrolled": false
   },
   "outputs": [
    {
     "data": {
      "image/png": "[encoded data removed]",
      "text/plain": [
       "<matplotlib.figure.Figure at 0x2b38e475f128>"
      ]
     },
     "metadata": {
      "needs_background": "light"
     },
     "output_type": "display_data"
    }
   ],
   "source": [
    "_ = plt.hist(sampled_cube.reshape(-1),\n",
    "             log = True,\n",
    "             bins = 200)"
   ]
  },
  {
   "cell_type": "code",
   "execution_count": 14,
   "metadata": {},
   "outputs": [],
   "source": [
    "# on prince\n",
    "sampled_subcubes = HydrogenDataset(h5_file=redshift_file,\n",
    "                                    root_dir = data_dir,\n",
    "                                    f = h5py.File(data_dir + redshift_file, 'r')[\"delta_HI\"],\n",
    "                                    s_test = edge_test, \n",
    "                                    s_train = edge_sample,\n",
    "                                    s_sample = edge_sample, \n",
    "                                    nsamples = n_samples,\n",
    "                                   min_cube = min_cube,\n",
    "                                  max_cube = max_cube,\n",
    "                                  mean_cube = mean_cube,\n",
    "                                  stddev_cube = stddev_cube,\n",
    "                                   min_raw_cube = min_raw_cube,\n",
    "                                  max_raw_cube = max_raw_cube,\n",
    "                                  mean_raw_cube = mean_raw_cube,\n",
    "                                  stddev_raw_cube = stddev_raw_cube)"
   ]
  },
  {
   "cell_type": "code",
   "execution_count": 15,
   "metadata": {},
   "outputs": [],
   "source": [
    "sampled_cube_inv = inverse_transform_func(cube = sampled_cube,\n",
    "                                          inverse_type = inverse_transform, \n",
    "                                          sampled_dataset = sampled_subcubes)"
   ]
  },
  {
   "cell_type": "code",
   "execution_count": 16,
   "metadata": {},
   "outputs": [
    {
     "name": "stdout",
     "output_type": "stream",
     "text": [
      "mean:82.518555\n",
      "mean:82.51859320875046\n",
      "std:25239.871\n",
      "std:25239.88815557503\n",
      "max:14201433.0\n",
      "max:14201432.766242504\n",
      "min:0.0\n",
      "min:0.0\n"
     ]
    }
   ],
   "source": [
    "print(\"mean:\" + str(np.mean(raw_cube)))\n",
    "print(\"mean:\" + str(np.mean(sampled_cube_inv)))\n",
    "print(\"std:\" + str(np.std(raw_cube)))\n",
    "print(\"std:\" + str(np.std(sampled_cube_inv)))\n",
    "print(\"max:\" + str(np.amax(raw_cube)))\n",
    "print(\"max:\" + str(np.amax(sampled_cube_inv)))\n",
    "print(\"min:\" + str(np.amin(raw_cube)))\n",
    "print(\"min:\" + str(np.amin(sampled_cube_inv)))"
   ]
  },
  {
   "cell_type": "code",
   "execution_count": 17,
   "metadata": {},
   "outputs": [
    {
     "data": {
      "image/png": "[encoded data removed]",
      "text/plain": [
       "<matplotlib.figure.Figure at 0x2b38e4921780>"
      ]
     },
     "metadata": {
      "needs_background": "light"
     },
     "output_type": "display_data"
    }
   ],
   "source": [
    "plt.figure(figsize = (16,8))\n",
    "plt.hist(raw_cube.reshape(-1),\n",
    "             log = True,\n",
    "         color = \"red\",\n",
    "         alpha = 0.3,\n",
    "             bins = 200)\n",
    "plt.hist(sampled_cube_inv.reshape(-1),\n",
    "             log = True,\n",
    "                  color = \"blue\",\n",
    "         alpha = 0.3,\n",
    "             bins = 200)\n",
    "plt.show()\n",
    "plt.close()"
   ]
  },
  {
   "cell_type": "code",
   "execution_count": null,
   "metadata": {},
   "outputs": [],
   "source": []
  }
 ],
 "metadata": {
  "kernelspec": {
   "display_name": "Python 3",
   "language": "python",
   "name": "python3"
  },
  "language_info": {
   "codemirror_mode": {
    "name": "ipython",
    "version": 3
   },
   "file_extension": ".py",
   "mimetype": "text/x-python",
   "name": "python",
   "nbconvert_exporter": "python",
   "pygments_lexer": "ipython3",
   "version": "3.6.3"
  }
 },
 "nbformat": 4,
 "nbformat_minor": 2
}
