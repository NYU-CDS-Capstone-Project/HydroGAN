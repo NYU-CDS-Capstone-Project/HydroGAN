{
 "cells": [
  {
   "cell_type": "code",
   "execution_count": null,
   "metadata": {},
   "outputs": [],
   "source": [
    "from mpl_toolkits.mplot3d import Axes3D \n",
    "import matplotlib.pyplot as plt \n",
    "import numpy as np \n",
    "\n",
    "cube_size = 64\n",
    "random_cube_index = 0\n",
    "stdev_mask = 1\n",
    "edge = np.array([*range(cube_size)])\n",
    "\n",
    "\n",
    "fig = plt.figure(figsize=(20,20)) \n",
    "ax = fig.add_subplot(111, projection='3d') \n",
    "\n",
    "x,y,z = edge,edge,edge\n",
    "\n",
    "start = random_cube_index\n",
    "end = random_cube_index+cube_size\n",
    "    \n",
    "data_value = f[0][start:end,\n",
    "                  start:end,\n",
    "                  start:end]\n",
    "\n",
    "data_value_norm = data_value/np.lin\n",
    "\n",
    "ax.scatter(x, y, z, c=data_value, cmap=plt.hot()) \n",
    "plt.show()"
   ]
  }
 ],
 "metadata": {
  "kernelspec": {
   "display_name": "Python 3",
   "language": "python",
   "name": "python3"
  },
  "language_info": {
   "codemirror_mode": {
    "name": "ipython",
    "version": 3
   },
   "file_extension": ".py",
   "mimetype": "text/x-python",
   "name": "python",
   "nbconvert_exporter": "python",
   "pygments_lexer": "ipython3",
   "version": "3.6.6"
  }
 },
 "nbformat": 4,
 "nbformat_minor": 2
}
