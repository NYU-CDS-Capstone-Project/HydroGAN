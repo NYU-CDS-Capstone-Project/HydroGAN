{
 "cells": [
  {
   "cell_type": "markdown",
   "metadata": {},
   "source": [
    "<h1 id=\"tocheading\">Table of Contents</h1>\n",
    "<div id=\"toc\"></div>"
   ]
  },
  {
   "cell_type": "code",
   "execution_count": 1,
   "metadata": {},
   "outputs": [
    {
     "data": {
      "application/javascript": [
       "$.getScript('https://kmahelona.github.io/ipython_notebook_goodies/ipython_notebook_toc.js')"
      ],
      "text/plain": [
       "<IPython.core.display.Javascript object>"
      ]
     },
     "metadata": {},
     "output_type": "display_data"
    }
   ],
   "source": [
    "%%javascript\n",
    "$.getScript('https://kmahelona.github.io/ipython_notebook_goodies/ipython_notebook_toc.js')"
   ]
  },
  {
   "cell_type": "code",
   "execution_count": 184,
   "metadata": {},
   "outputs": [],
   "source": [
    "import pandas as pd\n",
    "import numpy as np\n",
    "import matplotlib.pyplot as plt\n",
    "from mpl_toolkits.mplot3d import Axes3D\n",
    "from matplotlib import colors\n",
    "import h5py\n",
    "import matplotlib as mpl\n",
    "%matplotlib inline"
   ]
  },
  {
   "cell_type": "markdown",
   "metadata": {},
   "source": [
    "## Load Data"
   ]
  },
  {
   "cell_type": "code",
   "execution_count": 3,
   "metadata": {},
   "outputs": [],
   "source": [
    "f = h5py.File(\"sample16.h5\", mode=\"r\")\n",
    "# f = h5py.File(\"../\", mode=\"r\")"
   ]
  },
  {
   "cell_type": "code",
   "execution_count": 4,
   "metadata": {},
   "outputs": [
    {
     "name": "stdout",
     "output_type": "stream",
     "text": [
      "sample16\n"
     ]
    }
   ],
   "source": [
    "print (*f)"
   ]
  },
  {
   "cell_type": "code",
   "execution_count": 5,
   "metadata": {},
   "outputs": [
    {
     "name": "stdout",
     "output_type": "stream",
     "text": [
      "sample16\n"
     ]
    }
   ],
   "source": [
    "print (*f.keys())"
   ]
  },
  {
   "cell_type": "code",
   "execution_count": 6,
   "metadata": {},
   "outputs": [],
   "source": [
    "f = np.array([*f[\"sample16\"]])"
   ]
  },
  {
   "cell_type": "code",
   "execution_count": 7,
   "metadata": {},
   "outputs": [
    {
     "data": {
      "text/plain": [
       "(16, 128, 128, 128)"
      ]
     },
     "execution_count": 7,
     "metadata": {},
     "output_type": "execute_result"
    }
   ],
   "source": [
    "f.shape"
   ]
  },
  {
   "cell_type": "code",
   "execution_count": 8,
   "metadata": {},
   "outputs": [
    {
     "data": {
      "text/plain": [
       "1.1136686"
      ]
     },
     "execution_count": 8,
     "metadata": {},
     "output_type": "execute_result"
    }
   ],
   "source": [
    "## get the delta_HI mass \n",
    "## in the coordinates \n",
    "## x = 0/128\n",
    "## y = 0/128\n",
    "## z = 0/128\n",
    "## of the 0th cube\n",
    "f[0][0][0][0]"
   ]
  },
  {
   "cell_type": "markdown",
   "metadata": {},
   "source": [
    "## Visualize"
   ]
  },
  {
   "cell_type": "code",
   "execution_count": 198,
   "metadata": {},
   "outputs": [],
   "source": [
    "def truncate_colormap(cmap, minval=0.0, maxval=1.0, n=100):\n",
    "    \"\"\"Function for dividing cmaps,\n",
    "    Retrieved from: https://stackoverflow.com/questions/\\\n",
    "    18926031/how-to-extract-a-subset-of-a-colormap-as-a-new-colormap-in-matplotlib\"\"\"\n",
    "    new_cmap = colors.LinearSegmentedColormap.from_list(\n",
    "        'trunc({n},{a:.2f},{b:.2f})'.format(n=cmap.name, a=minval, b=maxval),\n",
    "        cmap(np.linspace(minval, maxval, n)))\n",
    "    return new_cmap"
   ]
  },
  {
   "cell_type": "code",
   "execution_count": null,
   "metadata": {},
   "outputs": [
    {
     "name": "stdout",
     "output_type": "stream",
     "text": [
      "[9.29553348e-08 5.70301313e-08 1.91314602e-08 2.94731232e-09\n",
      " 6.54713989e-10]\n"
     ]
    }
   ],
   "source": [
    "import itertools\n",
    "cube_size = 128\n",
    "random_cube_index = 0\n",
    "stdev_mask = 1\n",
    "edge = np.array([*range(cube_size)])\n",
    "\n",
    "fig = plt.figure(figsize=(20,20)) \n",
    "ax = fig.add_subplot(111, projection='3d') \n",
    "\n",
    "start = random_cube_index\n",
    "end = random_cube_index+cube_size\n",
    "    \n",
    "data_value = f[0][start:end,\n",
    "                  start:end,\n",
    "                  start:end]\n",
    "\n",
    "x,y,z = edge,edge,edge\n",
    "\n",
    "product = [*itertools.product(x,y,z)]\n",
    "\n",
    "X = np.array([product[k][0] for k in [*range(len(product))]])\n",
    "Y = np.array([product[k][1] for k in [*range(len(product))]])\n",
    "Z = np.array([product[k][2] for k in [*range(len(product))]])\n",
    "\n",
    "data_1dim = np.array([data_value[X[i]][Y[i]][Z[i]] for i in [*range(len(product))]])\n",
    "initial_mean = np.mean(data_1dim) - 2*np.std(data_1dim)\n",
    "mask = data_1dim > 0\n",
    "mask = mask.astype(np.int)\n",
    "\n",
    "data_1dim = np.multiply(mask,data_1dim)\n",
    "X = X[np.where(data_1dim>0)]\n",
    "Y = Y[np.where(data_1dim>0)]\n",
    "Z = Z[np.where(data_1dim>0)]\n",
    "data_1dim = data_1dim[np.where(data_1dim>0)]\n",
    "s = 700*data_1dim/np.linalg.norm(data_1dim)\n",
    "\n",
    "cmap=plt.get_cmap(\"Blues\")\n",
    "new_cmap = truncate_colormap(cmap, 0.9, 1,n=1000)\n",
    "\n",
    "print (s[:5])\n",
    "ax.scatter(X, Y, Z, \n",
    "           c=data_1dim, \n",
    "           cmap=new_cmap,\n",
    "           s=s,alpha=1)\n",
    "plt.show()"
   ]
  },
  {
   "cell_type": "code",
   "execution_count": null,
   "metadata": {
    "scrolled": false
   },
   "outputs": [],
   "source": [
    "for i in [*range(16)]:\n",
    "    cube_size = 128\n",
    "    random_cube_index = 0\n",
    "    stdev_mask = 1\n",
    "    edge = np.array([*range(cube_size)])\n",
    "\n",
    "    fig = plt.figure(figsize=(20,20)) \n",
    "    ax = fig.add_subplot(111, projection='3d') \n",
    "\n",
    "    start = random_cube_index\n",
    "    end = random_cube_index+cube_size\n",
    "\n",
    "    data_value = f[i][start:end,\n",
    "                      start:end,\n",
    "                      start:end]\n",
    "\n",
    "    x,y,z = edge,edge,edge\n",
    "\n",
    "    product = [*itertools.product(x,y,z)]\n",
    "\n",
    "    X = np.array([product[k][0] for k in [*range(len(product))]])\n",
    "    Y = np.array([product[k][1] for k in [*range(len(product))]])\n",
    "    Z = np.array([product[k][2] for k in [*range(len(product))]])\n",
    "\n",
    "    data_1dim = np.array([data_value[X[i]][Y[i]][Z[i]] for i in [*range(len(product))]])\n",
    "    initial_mean = np.mean(data_1dim) - np.std(data_1dim)\n",
    "    mask = data_1dim > 0\n",
    "    mask = mask.astype(np.int)\n",
    "\n",
    "    data_1dim = np.multiply(mask,data_1dim)\n",
    "    X = X[np.where(data_1dim>0)]\n",
    "    Y = Y[np.where(data_1dim>0)]\n",
    "    Z = Z[np.where(data_1dim>0)]\n",
    "    data_1dim = data_1dim[np.where(data_1dim>0)]\n",
    "    s = 500*data_1dim/np.linalg.norm(data_1dim)\n",
    "    print (s[:5])\n",
    "#     norm = matplotlib.colors.Normalize(vmin=0, vmax=10)\n",
    "    \n",
    "    ax.scatter(X, Y, Z, c=data_1dim,norm = mpl.colors.Normalize(vmin=-1.,vmax=1.),\n",
    "               cmap=plt.get_cmap(\"Blues\"),s=s,alpha=1)\n",
    "    # ax.scatter(X, Y, Z, c=data_1dim,s=50,alpha=0.5)\n",
    "    plt.show()"
   ]
  },
  {
   "cell_type": "code",
   "execution_count": null,
   "metadata": {},
   "outputs": [],
   "source": []
  }
 ],
 "metadata": {
  "kernelspec": {
   "display_name": "Python 3",
   "language": "python",
   "name": "python3"
  },
  "language_info": {
   "codemirror_mode": {
    "name": "ipython",
    "version": 3
   },
   "file_extension": ".py",
   "mimetype": "text/x-python",
   "name": "python",
   "nbconvert_exporter": "python",
   "pygments_lexer": "ipython3",
   "version": "3.6.6"
  }
 },
 "nbformat": 4,
 "nbformat_minor": 2
}
