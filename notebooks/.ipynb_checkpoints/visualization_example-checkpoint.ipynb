{
 "cells": [
  {
   "cell_type": "markdown",
   "metadata": {},
   "source": [
    "<h1 id=\"tocheading\">Table of Contents</h1>\n",
    "<div id=\"toc\"></div>"
   ]
  },
  {
   "cell_type": "code",
   "execution_count": 1,
   "metadata": {},
   "outputs": [
    {
     "data": {
      "application/javascript": [
       "$.getScript('https://kmahelona.github.io/ipython_notebook_goodies/ipython_notebook_toc.js')"
      ],
      "text/plain": [
       "<IPython.core.display.Javascript object>"
      ]
     },
     "metadata": {},
     "output_type": "display_data"
    }
   ],
   "source": [
    "%%javascript\n",
    "$.getScript('https://kmahelona.github.io/ipython_notebook_goodies/ipython_notebook_toc.js')"
   ]
  },
  {
   "cell_type": "code",
   "execution_count": 2,
   "metadata": {},
   "outputs": [],
   "source": [
    "import pandas as pd\n",
    "import numpy as np\n",
    "import matplotlib.pyplot as plt\n",
    "from mpl_toolkits.mplot3d import Axes3D\n",
    "from matplotlib import colors\n",
    "import h5py\n",
    "%matplotlib inline"
   ]
  },
  {
   "cell_type": "markdown",
   "metadata": {},
   "source": [
    "## Load Data"
   ]
  },
  {
   "cell_type": "code",
   "execution_count": 3,
   "metadata": {},
   "outputs": [],
   "source": [
    "f = h5py.File(\"sample16.h5\", mode=\"r\")\n",
    "# f = h5py.File(\"../\", mode=\"r\")"
   ]
  },
  {
   "cell_type": "code",
   "execution_count": 4,
   "metadata": {},
   "outputs": [
    {
     "name": "stdout",
     "output_type": "stream",
     "text": [
      "sample16\n"
     ]
    }
   ],
   "source": [
    "print (*f)"
   ]
  },
  {
   "cell_type": "code",
   "execution_count": 5,
   "metadata": {},
   "outputs": [
    {
     "name": "stdout",
     "output_type": "stream",
     "text": [
      "sample16\n"
     ]
    }
   ],
   "source": [
    "print (*f.keys())"
   ]
  },
  {
   "cell_type": "code",
   "execution_count": 6,
   "metadata": {},
   "outputs": [],
   "source": [
    "f = np.array([*f[\"sample16\"]])"
   ]
  },
  {
   "cell_type": "code",
   "execution_count": 7,
   "metadata": {},
   "outputs": [
    {
     "data": {
      "text/plain": [
       "(16, 128, 128, 128)"
      ]
     },
     "execution_count": 7,
     "metadata": {},
     "output_type": "execute_result"
    }
   ],
   "source": [
    "f.shape"
   ]
  },
  {
   "cell_type": "code",
   "execution_count": 8,
   "metadata": {},
   "outputs": [
    {
     "data": {
      "text/plain": [
       "1.1136686"
      ]
     },
     "execution_count": 8,
     "metadata": {},
     "output_type": "execute_result"
    }
   ],
   "source": [
    "## get the delta_HI mass \n",
    "## in the coordinates \n",
    "## x = 0/128\n",
    "## y = 0/128\n",
    "## z = 0/128\n",
    "## of the 0th cube\n",
    "f[0][0][0][0]"
   ]
  },
  {
   "cell_type": "markdown",
   "metadata": {},
   "source": [
    "## Visualize"
   ]
  },
  {
   "cell_type": "code",
   "execution_count": null,
   "metadata": {},
   "outputs": [
    {
     "name": "stdout",
     "output_type": "stream",
     "text": [
      "0\n",
      "(64, 64, 64)\n"
     ]
    }
   ],
   "source": [
    "from mpl_toolkits.mplot3d import Axes3D\n",
    "import numpy as np\n",
    "import matplotlib.pyplot as plt\n",
    "import itertools\n",
    "import matplotlib.cm\n",
    "import matplotlib.colorbar\n",
    "import matplotlib.colors\n",
    "\n",
    "def cuboid_data(center, size=(1,1,1)):\n",
    "    o = [a - b / 2 for a, b in zip(center, size)]\n",
    "    # get the length, width, and height\n",
    "    l, w, h = size\n",
    "    x = [[o[0], o[0] + l, o[0] + l, o[0], o[0]] for i in [*range(4)]] ## cube x coordinates\n",
    "#     print (\"x=\"+str(x))\n",
    "    y = [[o[1], o[1], o[1] + w, o[1] + w, o[1]],  # y coordinate of points in bottom surface\n",
    "         [o[1], o[1], o[1] + w, o[1] + w, o[1]],  # y coordinate of points in upper surface\n",
    "         [o[1], o[1], o[1], o[1], o[1]],          # y coordinate of points in outside surface\n",
    "         [o[1] + w, o[1] + w, o[1] + w, o[1] + w, o[1] + w]]    # y coordinate of points in inside surface\n",
    "#     print (\"y=\"+str(y))\n",
    "    z = [[o[2], o[2], o[2], o[2], o[2]],                        # z coordinate of points in bottom surface\n",
    "         [o[2] + h, o[2] + h, o[2] + h, o[2] + h, o[2] + h],    # z coordinate of points in upper surface\n",
    "         [o[2], o[2], o[2] + h, o[2] + h, o[2]],                # z coordinate of points in outside surface\n",
    "         [o[2], o[2], o[2] + h, o[2] + h, o[2]]]                # z coordinate of points in inside surface\n",
    "#     print (\"z=\"+str(z))\n",
    "    return x, y, z\n",
    "\n",
    "def plotCubeAt(pos=(0,0,0),\n",
    "               c=\"w\", \n",
    "               alpha=0.2, \n",
    "               ax=None):\n",
    "    # Plotting N cube elements at position pos\n",
    "    if ax !=None:\n",
    "        X, Y, Z = cuboid_data((pos[0],pos[1],pos[2]))\n",
    "#         print (str(X)+\",\"+str(Y)+\",\"+str(Z))\n",
    "        ax.plot_surface(np.array(X),\n",
    "                        np.array(Y),\n",
    "                        np.array(Z),\n",
    "                        color=c, \n",
    "                        rstride=1, \n",
    "                        cstride=1, ##cstride=1 \n",
    "                        alpha=alpha)\n",
    "\n",
    "def plotMatrix(ax, x, y, z, data, \n",
    "               cmap=\"Reds\", \n",
    "               cax=None, \n",
    "               alpha=0.2):\n",
    "    # plot a Matrix \n",
    "    norm = matplotlib.colors.Normalize(vmin=data.min(), \n",
    "                                       vmax=data.max())\n",
    "    \n",
    "    colors = lambda i,j,k : matplotlib.cm.ScalarMappable(norm=norm,\n",
    "                                                         cmap=cmap).to_rgba(data[i,j,k],\n",
    "                                                                           norm=True) \n",
    "    \n",
    "    \n",
    "    product = [*itertools.product(x,y,z)]\n",
    "    \n",
    "    for i in product:\n",
    "        plotCubeAt(pos=(i[0],i[1],i[2]),\n",
    "                   c=colors(i[0],i[1],i[2]),\n",
    "                   alpha=int(data[i]>0)*alpha, ## if that data point is zero, plot should be transparent\n",
    "                   ax=ax)\n",
    "\n",
    "\n",
    "\n",
    "    if cax !=None:\n",
    "        cbar = matplotlib.colorbar.ColorbarBase(cax, \n",
    "                                                cmap=cmap,\n",
    "                                                norm=norm,\n",
    "                                                orientation='vertical')\n",
    "        cbar.set_ticks(np.unique(data))\n",
    "        # set the colorbar transparent as well\n",
    "#         cbar.solids.set(alpha=alpha)  \n",
    "        \n",
    "    plt.show()\n",
    "\n",
    "\n",
    "\n",
    "if __name__ == '__main__':\n",
    "    cube_size = 64\n",
    "    random_cube_index = 0\n",
    "    stdev_mask = 1\n",
    "    edge = np.array([*range(cube_size)])\n",
    "    # x and y and z coordinates\n",
    "    x,y,z = edge,edge,edge\n",
    "    \n",
    "    start = random_cube_index\n",
    "    end = random_cube_index+cube_size\n",
    "    \n",
    "    data_value = f[0][start:end,\n",
    "                      start:end,\n",
    "                      start:end]\n",
    "    \n",
    "    mask = data_value>np.mean(data_value)+stdev_mask*np.std(data_value)\n",
    "    mask = mask.astype(np.int)\n",
    "    data_value = np.multiply(data_value,mask)\n",
    "    \n",
    "    print (random_cube_index)\n",
    "    print (data_value.shape)\n",
    "\n",
    "    fig = plt.figure(figsize=(20,20))\n",
    "    ax = fig.add_axes([0.1, 0.1, 0.7, 0.8], projection='3d')\n",
    "    ax_cb = fig.add_axes([0.8, 0.3, 0.05, 0.45])\n",
    "    ax.set_aspect('equal')\n",
    "    \n",
    "    plotMatrix(ax, \n",
    "               np.array(x),\n",
    "               np.array(y),\n",
    "               np.array(z),\n",
    "               data_value, cmap=\"Reds\")\n",
    "\n",
    "#     plt.show()"
   ]
  },
  {
   "cell_type": "code",
   "execution_count": null,
   "metadata": {},
   "outputs": [],
   "source": []
  }
 ],
 "metadata": {
  "kernelspec": {
   "display_name": "Python 3",
   "language": "python",
   "name": "python3"
  },
  "language_info": {
   "codemirror_mode": {
    "name": "ipython",
    "version": 3
   },
   "file_extension": ".py",
   "mimetype": "text/x-python",
   "name": "python",
   "nbconvert_exporter": "python",
   "pygments_lexer": "ipython3",
   "version": "3.6.6"
  }
 },
 "nbformat": 4,
 "nbformat_minor": 2
}
