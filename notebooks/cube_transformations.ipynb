{
 "cells": [
  {
   "cell_type": "markdown",
   "metadata": {},
   "source": [
    "These transformations are done and the outputs will be saved tio /scratch folder because they should be on the whole cube instead of the subcubes. \n",
    "\n",
    "* Min-max scaling [0,1] \n",
    "* Min-max scaling [-1,1]\n",
    "* standardizing -> (x - mean )/ stddev\n",
    "* standardizing and scaling [0,1]\n",
    "* standardizing and scaling [-1,1]\n",
    "* square root transformation\n",
    "* box-cox transformation\n",
    "* box-cox transformation and scaling [0,1]\n",
    "* box-cox transformation and scaling [-1,1]\n",
    "* box-cox transformation and standardizing\n",
    "* standardizing and box-cox transformation\n",
    "* reciprocal transformation and scaling [0,1]\n",
    "* reciprocal transformation and scaling [-1,1]"
   ]
  },
  {
   "cell_type": "code",
   "execution_count": 9,
   "metadata": {},
   "outputs": [],
   "source": [
    "import pandas as pd\n",
    "import h5py\n",
    "import numpy as np\n",
    "import matplotlib.pyplot as plt\n",
    "from scipy import stats\n",
    "\n",
    "%matplotlib inline"
   ]
  },
  {
   "cell_type": "code",
   "execution_count": 10,
   "metadata": {},
   "outputs": [],
   "source": [
    "datapath=''\n",
    "redshift = '1.0'\n",
    "f = h5py.File(datapath+'fields_z='+redshift+'.hdf5', 'r')\n",
    "f=f['delta_HI']"
   ]
  },
  {
   "cell_type": "markdown",
   "metadata": {},
   "source": [
    "# Helper Functions"
   ]
  },
  {
   "cell_type": "markdown",
   "metadata": {},
   "source": [
    "## Get max of whole cube"
   ]
  },
  {
   "cell_type": "code",
   "execution_count": 11,
   "metadata": {},
   "outputs": [
    {
     "data": {
      "text/plain": [
       "11269703000.0"
      ]
     },
     "execution_count": 11,
     "metadata": {},
     "output_type": "execute_result"
    }
   ],
   "source": [
    "def get_max_cube(f):\n",
    "    max_list = []\n",
    "    for i in range(f.shape[0]):\n",
    "        #print(np.max(f[i:i+1,:,:]))\n",
    "        max_list.append(np.max(f[i:i+1,:,:]))\n",
    "    max_cube = max(max_list)\n",
    "    return max_cube\n",
    "\n",
    "max_cube = get_max_cube(f = f)\n",
    "max_cube"
   ]
  },
  {
   "cell_type": "markdown",
   "metadata": {},
   "source": [
    "## Get min of whole cube"
   ]
  },
  {
   "cell_type": "code",
   "execution_count": 12,
   "metadata": {},
   "outputs": [
    {
     "data": {
      "text/plain": [
       "0.0"
      ]
     },
     "execution_count": 12,
     "metadata": {},
     "output_type": "execute_result"
    }
   ],
   "source": [
    "def get_min_cube(f):\n",
    "    min_list = []\n",
    "    for i in range(f.shape[0]):\n",
    "        #print(np.max(f[i:i+1,:,:]))\n",
    "        min_list.append(np.min(f[i:i+1,:,:]))\n",
    "    min_cube = min(min_list)\n",
    "    return min_cube\n",
    "\n",
    "min_cube = get_min_cube(f = f)\n",
    "min_cube"
   ]
  },
  {
   "cell_type": "markdown",
   "metadata": {},
   "source": [
    "## Get mean of whole cube"
   ]
  },
  {
   "cell_type": "code",
   "execution_count": 13,
   "metadata": {},
   "outputs": [
    {
     "data": {
      "text/plain": [
       "8658.475"
      ]
     },
     "execution_count": 13,
     "metadata": {},
     "output_type": "execute_result"
    }
   ],
   "source": [
    "def get_mean_cube(f):\n",
    "    mean_list = []\n",
    "    for i in range(f.shape[0]):\n",
    "        #print(np.max(f[i:i+1,:,:]))\n",
    "        mean_list.append(np.mean(f[i:i+1,:,:]))\n",
    "    mean_cube = np.mean(mean_list)\n",
    "    return mean_cube\n",
    "\n",
    "mean_cube = get_mean_cube(f = f)\n",
    "mean_cube"
   ]
  },
  {
   "cell_type": "markdown",
   "metadata": {},
   "source": [
    "## Get stddev of whole cube"
   ]
  },
  {
   "cell_type": "code",
   "execution_count": 14,
   "metadata": {},
   "outputs": [
    {
     "data": {
      "text/plain": [
       "2636760.2"
      ]
     },
     "execution_count": 14,
     "metadata": {},
     "output_type": "execute_result"
    }
   ],
   "source": [
    "def get_stddev_cube(f, mean_cube):\n",
    "    variance_list = []\n",
    "    for i in range(f.shape[0]):\n",
    "        variance_list.append(np.mean(np.square(f[i:i+1,:,:] - mean_cube)))\n",
    "    stddev_cube = np.sqrt(np.mean(variance_list))\n",
    "    return stddev_cube\n",
    "\n",
    "stddev_cube = get_stddev_cube(f = f, mean_cube = mean_cube)\n",
    "stddev_cube"
   ]
  },
  {
   "cell_type": "markdown",
   "metadata": {},
   "source": [
    "# Min-Max Scaling [0,1]"
   ]
  },
  {
   "cell_type": "code",
   "execution_count": null,
   "metadata": {},
   "outputs": [],
   "source": [
    "whole_new_f = np.empty(shape = (f.shape[0],f.shape[1],f.shape[2]),\n",
    "                       dtype = np.float64)\n",
    "whole_new_f.shape"
   ]
  },
  {
   "cell_type": "code",
   "execution_count": null,
   "metadata": {},
   "outputs": [],
   "source": [
    "whole_new_f[0:1,:,:].shape"
   ]
  },
  {
   "cell_type": "code",
   "execution_count": null,
   "metadata": {},
   "outputs": [],
   "source": [
    "for i in range(f.shape[0]):\n",
    "    whole_new_f[i:i+1,:,:] = (f[i:i+1,:,:] - min_cube)/(max_cube-min_cube)"
   ]
  },
  {
   "cell_type": "code",
   "execution_count": null,
   "metadata": {},
   "outputs": [],
   "source": [
    "whole_new_f[0,:,:]"
   ]
  },
  {
   "cell_type": "code",
   "execution_count": null,
   "metadata": {
    "scrolled": true
   },
   "outputs": [],
   "source": [
    "whole_new_f.shape"
   ]
  },
  {
   "cell_type": "code",
   "execution_count": null,
   "metadata": {},
   "outputs": [],
   "source": [
    "whole_new_f.mean()"
   ]
  },
  {
   "cell_type": "code",
   "execution_count": null,
   "metadata": {},
   "outputs": [],
   "source": [
    "whole_new_f.min()"
   ]
  },
  {
   "cell_type": "code",
   "execution_count": null,
   "metadata": {},
   "outputs": [],
   "source": [
    "whole_new_f.max()"
   ]
  },
  {
   "cell_type": "code",
   "execution_count": null,
   "metadata": {},
   "outputs": [],
   "source": [
    "hf = h5py.File('minmax_scale_01_redshift1.h5', 'w')"
   ]
  },
  {
   "cell_type": "code",
   "execution_count": null,
   "metadata": {},
   "outputs": [],
   "source": [
    "hf.create_dataset('delta_HI', data=whole_new_f)"
   ]
  },
  {
   "cell_type": "code",
   "execution_count": null,
   "metadata": {},
   "outputs": [],
   "source": [
    "hf.close()"
   ]
  },
  {
   "cell_type": "markdown",
   "metadata": {},
   "source": [
    "# Min-Max Scaling [-1,1]"
   ]
  },
  {
   "cell_type": "code",
   "execution_count": null,
   "metadata": {},
   "outputs": [],
   "source": [
    "whole_new_f = np.empty(shape = (f.shape[0],f.shape[1],f.shape[2]),\n",
    "                       dtype = np.float64)\n",
    "whole_new_f.shape"
   ]
  },
  {
   "cell_type": "code",
   "execution_count": null,
   "metadata": {},
   "outputs": [],
   "source": [
    "for i in range(f.shape[0]):\n",
    "    whole_new_f[i:i+1,:,:] = 2* (f[i:i+1,:,:] - min_cube)/(max_cube-min_cube) - 1"
   ]
  },
  {
   "cell_type": "code",
   "execution_count": null,
   "metadata": {},
   "outputs": [],
   "source": [
    "whole_new_f.shape"
   ]
  },
  {
   "cell_type": "code",
   "execution_count": null,
   "metadata": {},
   "outputs": [],
   "source": [
    "whole_new_f.mean()"
   ]
  },
  {
   "cell_type": "code",
   "execution_count": null,
   "metadata": {},
   "outputs": [],
   "source": [
    "get_stddev_cube(f=whole_new_f, mean_cube=mean_cube)"
   ]
  },
  {
   "cell_type": "code",
   "execution_count": null,
   "metadata": {},
   "outputs": [],
   "source": [
    "whole_new_f.min()"
   ]
  },
  {
   "cell_type": "code",
   "execution_count": null,
   "metadata": {},
   "outputs": [],
   "source": [
    "whole_new_f.max()"
   ]
  },
  {
   "cell_type": "code",
   "execution_count": null,
   "metadata": {},
   "outputs": [],
   "source": [
    "hf = h5py.File('minmax_scale_neg11_redshift1.h5', 'w')"
   ]
  },
  {
   "cell_type": "code",
   "execution_count": null,
   "metadata": {
    "scrolled": true
   },
   "outputs": [],
   "source": [
    "hf.create_dataset('delta_HI', data=whole_new_f)"
   ]
  },
  {
   "cell_type": "code",
   "execution_count": null,
   "metadata": {},
   "outputs": [],
   "source": [
    "hf.close()"
   ]
  },
  {
   "cell_type": "markdown",
   "metadata": {},
   "source": [
    "# Standardizing"
   ]
  },
  {
   "cell_type": "code",
   "execution_count": 8,
   "metadata": {
    "scrolled": true
   },
   "outputs": [
    {
     "data": {
      "text/plain": [
       "(2048, 2048, 2048)"
      ]
     },
     "execution_count": 8,
     "metadata": {},
     "output_type": "execute_result"
    }
   ],
   "source": [
    "whole_new_f = np.empty(shape = (f.shape[0],f.shape[1],f.shape[2]),\n",
    "                       dtype = np.float64)\n",
    "whole_new_f.shape"
   ]
  },
  {
   "cell_type": "code",
   "execution_count": 15,
   "metadata": {},
   "outputs": [],
   "source": [
    "for i in range(f.shape[0]):\n",
    "    whole_new_f[i:i+1,:,:] = (f[i:i+1,:,:] - mean_cube)/ stddev_cube\n",
    "    "
   ]
  },
  {
   "cell_type": "code",
   "execution_count": 16,
   "metadata": {},
   "outputs": [
    {
     "data": {
      "text/plain": [
       "(2048, 2048, 2048)"
      ]
     },
     "execution_count": 16,
     "metadata": {},
     "output_type": "execute_result"
    }
   ],
   "source": [
    "whole_new_f.shape"
   ]
  },
  {
   "cell_type": "code",
   "execution_count": 17,
   "metadata": {},
   "outputs": [
    {
     "data": {
      "text/plain": [
       "5.36335680841665e-11"
      ]
     },
     "execution_count": 17,
     "metadata": {},
     "output_type": "execute_result"
    }
   ],
   "source": [
    "whole_new_f.mean()"
   ]
  },
  {
   "cell_type": "code",
   "execution_count": 18,
   "metadata": {},
   "outputs": [
    {
     "data": {
      "text/plain": [
       "-0.0032837549224495888"
      ]
     },
     "execution_count": 18,
     "metadata": {},
     "output_type": "execute_result"
    }
   ],
   "source": [
    "whole_new_f.min()"
   ]
  },
  {
   "cell_type": "code",
   "execution_count": 19,
   "metadata": {},
   "outputs": [
    {
     "data": {
      "text/plain": [
       "4274.06884765625"
      ]
     },
     "execution_count": 19,
     "metadata": {},
     "output_type": "execute_result"
    }
   ],
   "source": [
    "whole_new_f.max()"
   ]
  },
  {
   "cell_type": "code",
   "execution_count": 20,
   "metadata": {},
   "outputs": [],
   "source": [
    "hf = h5py.File('standardized_redshift1.h5', 'w')\n",
    "hf.create_dataset('delta_HI', data=whole_new_f)\n",
    "hf.close()"
   ]
  },
  {
   "cell_type": "markdown",
   "metadata": {},
   "source": [
    "# Box Cox Transformations"
   ]
  },
  {
   "cell_type": "code",
   "execution_count": null,
   "metadata": {},
   "outputs": [],
   "source": [
    "#102918, SB"
   ]
  },
  {
   "cell_type": "code",
   "execution_count": 59,
   "metadata": {},
   "outputs": [],
   "source": [
    "%run get_samples.py"
   ]
  },
  {
   "cell_type": "code",
   "execution_count": 60,
   "metadata": {},
   "outputs": [],
   "source": [
    "def get_lambda_boxcox(subcube, shift):\n",
    "    \n",
    "#     flat_cube = trial_sample[0].flatten()\n",
    "    flat_cube = subcube.flatten()\n",
    "    \n",
    "    # shifting with a positive constant to flat_cube for positiveness constraint\n",
    "    flat_cube = flat_cube + shift\n",
    "    \n",
    "    xt, maxlog, interval = stats.boxcox(flat_cube, alpha=0.05)\n",
    "    print(\"lambda = {:g}\".format(maxlog))\n",
    "    \n",
    "    return maxlog"
   ]
  },
  {
   "cell_type": "code",
   "execution_count": 69,
   "metadata": {
    "scrolled": true
   },
   "outputs": [
    {
     "name": "stdout",
     "output_type": "stream",
     "text": [
      "{'x': [512, 1536], 'y': [384, 1408], 'z': [1024, 2048]}\n",
      "Sampling finished.\n",
      "Counter = 1 / 500\n",
      "Counter = 2 / 500\n",
      "Counter = 3 / 500\n",
      "Counter = 4 / 500\n",
      "Counter = 5 / 500\n",
      "Counter = 6 / 500\n",
      "Counter = 7 / 500\n",
      "Counter = 8 / 500\n",
      "Counter = 9 / 500\n",
      "Counter = 10 / 500\n",
      "Counter = 11 / 500\n",
      "Counter = 12 / 500\n",
      "Counter = 13 / 500\n",
      "Counter = 14 / 500\n",
      "Counter = 15 / 500\n",
      "Counter = 16 / 500\n",
      "Counter = 17 / 500\n",
      "Counter = 18 / 500\n",
      "Counter = 19 / 500\n",
      "Counter = 20 / 500\n",
      "Counter = 21 / 500\n",
      "Counter = 22 / 500\n",
      "Counter = 23 / 500\n",
      "Counter = 24 / 500\n",
      "Counter = 25 / 500\n",
      "Counter = 26 / 500\n",
      "Counter = 27 / 500\n",
      "Counter = 28 / 500\n",
      "Counter = 29 / 500\n",
      "Counter = 30 / 500\n",
      "Counter = 31 / 500\n",
      "Counter = 32 / 500\n",
      "Counter = 33 / 500\n",
      "Counter = 34 / 500\n",
      "Counter = 35 / 500\n",
      "Counter = 36 / 500\n",
      "Counter = 37 / 500\n",
      "Counter = 38 / 500\n",
      "Counter = 39 / 500\n",
      "Counter = 40 / 500\n",
      "Counter = 41 / 500\n",
      "Counter = 42 / 500\n",
      "Counter = 43 / 500\n",
      "Counter = 44 / 500\n",
      "Counter = 45 / 500\n",
      "Counter = 46 / 500\n",
      "Counter = 47 / 500\n",
      "Counter = 48 / 500\n",
      "Counter = 49 / 500\n",
      "Counter = 50 / 500\n",
      "Counter = 51 / 500\n",
      "Counter = 52 / 500\n",
      "Counter = 53 / 500\n",
      "Counter = 54 / 500\n",
      "Counter = 55 / 500\n",
      "Counter = 56 / 500\n",
      "Counter = 57 / 500\n",
      "Counter = 58 / 500\n",
      "Counter = 59 / 500\n",
      "Counter = 60 / 500\n",
      "Counter = 61 / 500\n",
      "Counter = 62 / 500\n",
      "Counter = 63 / 500\n",
      "Counter = 64 / 500\n",
      "Counter = 65 / 500\n",
      "Counter = 66 / 500\n",
      "Counter = 67 / 500\n",
      "Counter = 68 / 500\n",
      "Counter = 69 / 500\n",
      "Counter = 70 / 500\n",
      "Counter = 71 / 500\n",
      "Counter = 72 / 500\n",
      "Counter = 73 / 500\n",
      "Counter = 74 / 500\n",
      "Counter = 75 / 500\n",
      "Counter = 76 / 500\n",
      "Counter = 77 / 500\n",
      "Counter = 78 / 500\n",
      "Counter = 79 / 500\n",
      "Counter = 80 / 500\n",
      "Counter = 81 / 500\n",
      "Counter = 82 / 500\n",
      "Counter = 83 / 500\n",
      "Counter = 84 / 500\n",
      "Counter = 85 / 500\n",
      "Counter = 86 / 500\n",
      "Counter = 87 / 500\n",
      "Counter = 88 / 500\n",
      "Counter = 89 / 500\n",
      "Counter = 90 / 500\n",
      "Counter = 91 / 500\n",
      "Counter = 92 / 500\n",
      "Counter = 93 / 500\n",
      "Counter = 94 / 500\n",
      "Counter = 95 / 500\n",
      "Counter = 96 / 500\n",
      "Counter = 97 / 500\n",
      "Counter = 98 / 500\n",
      "Counter = 99 / 500\n",
      "Counter = 100 / 500\n",
      "Counter = 101 / 500\n",
      "Counter = 102 / 500\n",
      "Counter = 103 / 500\n",
      "Counter = 104 / 500\n",
      "Counter = 105 / 500\n",
      "Counter = 106 / 500\n",
      "Counter = 107 / 500\n",
      "Counter = 108 / 500\n",
      "Counter = 109 / 500\n",
      "Counter = 110 / 500\n",
      "Counter = 111 / 500\n",
      "Counter = 112 / 500\n",
      "Counter = 113 / 500\n",
      "Counter = 114 / 500\n",
      "Counter = 115 / 500\n",
      "Counter = 116 / 500\n",
      "Counter = 117 / 500\n",
      "Counter = 118 / 500\n",
      "Counter = 119 / 500\n",
      "Counter = 120 / 500\n",
      "Counter = 121 / 500\n",
      "Counter = 122 / 500\n",
      "Counter = 123 / 500\n",
      "Counter = 124 / 500\n",
      "Counter = 125 / 500\n",
      "Counter = 126 / 500\n",
      "Counter = 127 / 500\n",
      "Counter = 128 / 500\n",
      "Counter = 129 / 500\n",
      "Counter = 130 / 500\n",
      "Counter = 131 / 500\n",
      "Counter = 132 / 500\n",
      "Counter = 133 / 500\n",
      "Counter = 134 / 500\n",
      "Counter = 135 / 500\n",
      "Counter = 136 / 500\n",
      "Counter = 137 / 500\n",
      "Counter = 138 / 500\n",
      "Counter = 139 / 500\n",
      "Counter = 140 / 500\n",
      "Counter = 141 / 500\n",
      "Counter = 142 / 500\n",
      "Counter = 143 / 500\n",
      "Counter = 144 / 500\n",
      "Counter = 145 / 500\n",
      "Counter = 146 / 500\n",
      "Counter = 147 / 500\n",
      "Counter = 148 / 500\n",
      "Counter = 149 / 500\n",
      "Counter = 150 / 500\n",
      "Counter = 151 / 500\n",
      "Counter = 152 / 500\n",
      "Counter = 153 / 500\n",
      "Counter = 154 / 500\n",
      "Counter = 155 / 500\n",
      "Counter = 156 / 500\n",
      "Counter = 157 / 500\n",
      "Counter = 158 / 500\n",
      "Counter = 159 / 500\n",
      "Counter = 160 / 500\n",
      "Counter = 161 / 500\n",
      "Counter = 162 / 500\n",
      "Counter = 163 / 500\n",
      "Counter = 164 / 500\n",
      "Counter = 165 / 500\n",
      "Counter = 166 / 500\n",
      "Counter = 167 / 500\n",
      "Counter = 168 / 500\n",
      "Counter = 169 / 500\n",
      "Counter = 170 / 500\n",
      "Counter = 171 / 500\n",
      "Counter = 172 / 500\n",
      "Counter = 173 / 500\n",
      "Counter = 174 / 500\n",
      "Counter = 175 / 500\n",
      "Counter = 176 / 500\n",
      "Counter = 177 / 500\n",
      "Counter = 178 / 500\n",
      "Counter = 179 / 500\n",
      "Counter = 180 / 500\n",
      "Counter = 181 / 500\n",
      "Counter = 182 / 500\n",
      "Counter = 183 / 500\n",
      "Counter = 184 / 500\n",
      "Counter = 185 / 500\n",
      "Counter = 186 / 500\n",
      "Counter = 187 / 500\n",
      "Counter = 188 / 500\n",
      "Counter = 189 / 500\n",
      "Counter = 190 / 500\n",
      "Counter = 191 / 500\n",
      "Counter = 192 / 500\n",
      "Counter = 193 / 500\n",
      "Counter = 194 / 500\n",
      "Counter = 195 / 500\n",
      "Counter = 196 / 500\n",
      "Counter = 197 / 500\n",
      "Counter = 198 / 500\n",
      "Counter = 199 / 500\n",
      "Counter = 200 / 500\n",
      "Counter = 201 / 500\n",
      "Counter = 202 / 500\n",
      "Counter = 203 / 500\n",
      "Counter = 204 / 500\n",
      "Counter = 205 / 500\n",
      "Counter = 206 / 500\n",
      "Counter = 207 / 500\n",
      "Counter = 208 / 500\n",
      "Counter = 209 / 500\n",
      "Counter = 210 / 500\n",
      "Counter = 211 / 500\n",
      "Counter = 212 / 500\n",
      "Counter = 213 / 500\n",
      "Counter = 214 / 500\n",
      "Counter = 215 / 500\n",
      "Counter = 216 / 500\n",
      "Counter = 217 / 500\n",
      "Counter = 218 / 500\n",
      "Counter = 219 / 500\n",
      "Counter = 220 / 500\n",
      "Counter = 221 / 500\n",
      "Counter = 222 / 500\n",
      "Counter = 223 / 500\n",
      "Counter = 224 / 500\n",
      "Counter = 225 / 500\n",
      "Counter = 226 / 500\n",
      "Counter = 227 / 500\n",
      "Counter = 228 / 500\n",
      "Counter = 229 / 500\n",
      "Counter = 230 / 500\n",
      "Counter = 231 / 500\n",
      "Counter = 232 / 500\n",
      "Counter = 233 / 500\n",
      "Counter = 234 / 500\n",
      "Counter = 235 / 500\n",
      "Counter = 236 / 500\n",
      "Counter = 237 / 500\n",
      "Counter = 238 / 500\n",
      "Counter = 239 / 500\n",
      "Counter = 240 / 500\n",
      "Counter = 241 / 500\n",
      "Counter = 242 / 500\n",
      "Counter = 243 / 500\n",
      "Counter = 244 / 500\n",
      "Counter = 245 / 500\n",
      "Counter = 246 / 500\n",
      "Counter = 247 / 500\n",
      "Counter = 248 / 500\n",
      "Counter = 249 / 500\n",
      "Counter = 250 / 500\n",
      "Counter = 251 / 500\n",
      "Counter = 252 / 500\n",
      "Counter = 253 / 500\n",
      "Counter = 254 / 500\n",
      "Counter = 255 / 500\n",
      "Counter = 256 / 500\n",
      "Counter = 257 / 500\n",
      "Counter = 258 / 500\n",
      "Counter = 259 / 500\n",
      "Counter = 260 / 500\n",
      "Counter = 261 / 500\n",
      "Counter = 262 / 500\n",
      "Counter = 263 / 500\n",
      "Counter = 264 / 500\n",
      "Counter = 265 / 500\n",
      "Counter = 266 / 500\n",
      "Counter = 267 / 500\n",
      "Counter = 268 / 500\n",
      "Counter = 269 / 500\n",
      "Counter = 270 / 500\n",
      "Counter = 271 / 500\n",
      "Counter = 272 / 500\n",
      "Counter = 273 / 500\n",
      "Counter = 274 / 500\n",
      "Counter = 275 / 500\n",
      "Counter = 276 / 500\n",
      "Counter = 277 / 500\n",
      "Counter = 278 / 500\n",
      "Counter = 279 / 500\n",
      "Counter = 280 / 500\n",
      "Counter = 281 / 500\n",
      "Counter = 282 / 500\n",
      "Counter = 283 / 500\n",
      "Counter = 284 / 500\n",
      "Counter = 285 / 500\n",
      "Counter = 286 / 500\n",
      "Counter = 287 / 500\n",
      "Counter = 288 / 500\n",
      "Counter = 289 / 500\n",
      "Counter = 290 / 500\n",
      "Counter = 291 / 500\n",
      "Counter = 292 / 500\n",
      "Counter = 293 / 500\n",
      "Counter = 294 / 500\n",
      "Counter = 295 / 500\n",
      "Counter = 296 / 500\n",
      "Counter = 297 / 500\n",
      "Counter = 298 / 500\n",
      "Counter = 299 / 500\n",
      "Counter = 300 / 500\n",
      "Counter = 301 / 500\n",
      "Counter = 302 / 500\n",
      "Counter = 303 / 500\n",
      "Counter = 304 / 500\n",
      "Counter = 305 / 500\n",
      "Counter = 306 / 500\n",
      "Counter = 307 / 500\n",
      "Counter = 308 / 500\n",
      "Counter = 309 / 500\n",
      "Counter = 310 / 500\n",
      "Counter = 311 / 500\n",
      "Counter = 312 / 500\n",
      "Counter = 313 / 500\n",
      "Counter = 314 / 500\n",
      "Counter = 315 / 500\n",
      "Counter = 316 / 500\n",
      "Counter = 317 / 500\n",
      "Counter = 318 / 500\n",
      "Counter = 319 / 500\n",
      "Counter = 320 / 500\n",
      "Counter = 321 / 500\n",
      "Counter = 322 / 500\n",
      "Counter = 323 / 500\n",
      "Counter = 324 / 500\n",
      "Counter = 325 / 500\n",
      "Counter = 326 / 500\n",
      "Counter = 327 / 500\n",
      "Counter = 328 / 500\n",
      "Counter = 329 / 500\n",
      "Counter = 330 / 500\n",
      "Counter = 331 / 500\n",
      "Counter = 332 / 500\n",
      "Counter = 333 / 500\n",
      "Counter = 334 / 500\n",
      "Counter = 335 / 500\n",
      "Counter = 336 / 500\n",
      "Counter = 337 / 500\n",
      "Counter = 338 / 500\n",
      "Counter = 339 / 500\n",
      "Counter = 340 / 500\n",
      "Counter = 341 / 500\n",
      "Counter = 342 / 500\n",
      "Counter = 343 / 500\n",
      "Counter = 344 / 500\n",
      "Counter = 345 / 500\n",
      "Counter = 346 / 500\n",
      "Counter = 347 / 500\n",
      "Counter = 348 / 500\n",
      "Counter = 349 / 500\n",
      "Counter = 350 / 500\n",
      "Counter = 351 / 500\n",
      "Counter = 352 / 500\n",
      "Counter = 353 / 500\n",
      "Counter = 354 / 500\n",
      "Counter = 355 / 500\n",
      "Counter = 356 / 500\n",
      "Counter = 357 / 500\n",
      "Counter = 358 / 500\n",
      "Counter = 359 / 500\n",
      "Counter = 360 / 500\n",
      "Counter = 361 / 500\n",
      "Counter = 362 / 500\n",
      "Counter = 363 / 500\n",
      "Counter = 364 / 500\n",
      "Counter = 365 / 500\n",
      "Counter = 366 / 500\n",
      "Counter = 367 / 500\n",
      "Counter = 368 / 500\n",
      "Counter = 369 / 500\n",
      "Counter = 370 / 500\n",
      "Counter = 371 / 500\n",
      "Counter = 372 / 500\n",
      "Counter = 373 / 500\n",
      "Counter = 374 / 500\n",
      "Counter = 375 / 500\n",
      "Counter = 376 / 500\n",
      "Counter = 377 / 500\n",
      "Counter = 378 / 500\n",
      "Counter = 379 / 500\n",
      "Counter = 380 / 500\n",
      "Counter = 381 / 500\n",
      "Counter = 382 / 500\n",
      "Counter = 383 / 500\n",
      "Counter = 384 / 500\n",
      "Counter = 385 / 500\n",
      "Counter = 386 / 500\n",
      "Counter = 387 / 500\n",
      "Counter = 388 / 500\n",
      "Counter = 389 / 500\n",
      "Counter = 390 / 500\n",
      "Counter = 391 / 500\n",
      "Counter = 392 / 500\n",
      "Counter = 393 / 500\n",
      "Counter = 394 / 500\n",
      "Counter = 395 / 500\n",
      "Counter = 396 / 500\n",
      "Counter = 397 / 500\n",
      "Counter = 398 / 500\n",
      "Counter = 399 / 500\n",
      "Counter = 400 / 500\n",
      "Counter = 401 / 500\n",
      "Counter = 402 / 500\n",
      "Counter = 403 / 500\n",
      "Counter = 404 / 500\n",
      "Counter = 405 / 500\n",
      "Counter = 406 / 500\n",
      "Counter = 407 / 500\n",
      "Counter = 408 / 500\n",
      "Counter = 409 / 500\n",
      "Counter = 410 / 500\n",
      "Counter = 411 / 500\n",
      "Counter = 412 / 500\n",
      "Counter = 413 / 500\n",
      "Counter = 414 / 500\n"
     ]
    },
    {
     "name": "stdout",
     "output_type": "stream",
     "text": [
      "Counter = 415 / 500\n",
      "Counter = 416 / 500\n",
      "Counter = 417 / 500\n",
      "Counter = 418 / 500\n",
      "Counter = 419 / 500\n",
      "Counter = 420 / 500\n",
      "Counter = 421 / 500\n",
      "Counter = 422 / 500\n",
      "Counter = 423 / 500\n",
      "Counter = 424 / 500\n",
      "Counter = 425 / 500\n",
      "Counter = 426 / 500\n",
      "Counter = 427 / 500\n",
      "Counter = 428 / 500\n",
      "Counter = 429 / 500\n",
      "Counter = 430 / 500\n",
      "Counter = 431 / 500\n",
      "Counter = 432 / 500\n",
      "Counter = 433 / 500\n",
      "Counter = 434 / 500\n",
      "Counter = 435 / 500\n",
      "Counter = 436 / 500\n",
      "Counter = 437 / 500\n",
      "Counter = 438 / 500\n",
      "Counter = 439 / 500\n",
      "Counter = 440 / 500\n",
      "Counter = 441 / 500\n",
      "Counter = 442 / 500\n",
      "Counter = 443 / 500\n",
      "Counter = 444 / 500\n",
      "Counter = 445 / 500\n",
      "Counter = 446 / 500\n",
      "Counter = 447 / 500\n",
      "Counter = 448 / 500\n",
      "Counter = 449 / 500\n",
      "Counter = 450 / 500\n",
      "Counter = 451 / 500\n",
      "Counter = 452 / 500\n",
      "Counter = 453 / 500\n",
      "Counter = 454 / 500\n",
      "Counter = 455 / 500\n",
      "Counter = 456 / 500\n",
      "Counter = 457 / 500\n",
      "Counter = 458 / 500\n",
      "Counter = 459 / 500\n",
      "Counter = 460 / 500\n",
      "Counter = 461 / 500\n",
      "Counter = 462 / 500\n",
      "Counter = 463 / 500\n",
      "Counter = 464 / 500\n",
      "Counter = 465 / 500\n",
      "Counter = 466 / 500\n",
      "Counter = 467 / 500\n",
      "Counter = 468 / 500\n",
      "Counter = 469 / 500\n",
      "Counter = 470 / 500\n",
      "Counter = 471 / 500\n",
      "Counter = 472 / 500\n",
      "Counter = 473 / 500\n",
      "Counter = 474 / 500\n",
      "Counter = 475 / 500\n",
      "Counter = 476 / 500\n",
      "Counter = 477 / 500\n",
      "Counter = 478 / 500\n",
      "Counter = 479 / 500\n",
      "Counter = 480 / 500\n",
      "Counter = 481 / 500\n",
      "Counter = 482 / 500\n",
      "Counter = 483 / 500\n",
      "Counter = 484 / 500\n",
      "Counter = 485 / 500\n",
      "Counter = 486 / 500\n",
      "Counter = 487 / 500\n",
      "Counter = 488 / 500\n",
      "Counter = 489 / 500\n",
      "Counter = 490 / 500\n",
      "Counter = 491 / 500\n",
      "Counter = 492 / 500\n",
      "Counter = 493 / 500\n",
      "Counter = 494 / 500\n",
      "Counter = 495 / 500\n",
      "Counter = 496 / 500\n",
      "Counter = 497 / 500\n",
      "Counter = 498 / 500\n",
      "Counter = 499 / 500\n",
      "Counter = 500 / 500\n",
      "lambda = -1.63943\n",
      "lambda = -4.636\n",
      "lambda = -2.77646\n",
      "lambda = -1.55077\n",
      "lambda = -1.36164\n",
      "lambda = -2.0173\n",
      "lambda = -2.07332\n",
      "lambda = -1.90932\n",
      "lambda = -1.81208\n",
      "lambda = -2.36034\n",
      "lambda = -2.32396\n",
      "lambda = -1.8632\n",
      "lambda = -2.58445\n",
      "lambda = -1.67317\n",
      "lambda = -1.78584\n",
      "lambda = -1.64086\n",
      "lambda = -2.59987\n",
      "lambda = -1.73292\n",
      "lambda = -2.02267\n",
      "lambda = -2.33578\n",
      "lambda = -3.08314\n",
      "lambda = -2.08707\n",
      "lambda = -1.80205\n",
      "lambda = -2.1542\n",
      "lambda = -4.5426\n",
      "lambda = -1.73237\n",
      "lambda = -1.47614\n",
      "lambda = -1.55841\n",
      "lambda = -1.71274\n",
      "lambda = -1.66552\n",
      "lambda = -1.90567\n",
      "lambda = -2.52573\n",
      "lambda = -6.3877\n",
      "lambda = -1.53674\n",
      "lambda = -1.75154\n",
      "lambda = -2.32036\n",
      "lambda = -2.48492\n",
      "lambda = -1.46559\n",
      "lambda = -3.64974\n",
      "lambda = -4.39354\n",
      "lambda = -1.31157\n",
      "lambda = -2.65199\n",
      "lambda = -1.35465\n",
      "lambda = -1.93495\n",
      "lambda = -2.2224\n",
      "lambda = -3.31985\n",
      "lambda = -1.8532\n",
      "lambda = -1.51\n",
      "lambda = -2.4486\n",
      "lambda = -1.18842\n",
      "lambda = -1.77479\n",
      "lambda = -1.28289\n",
      "lambda = -1.53112\n",
      "lambda = -1.36053\n",
      "lambda = -1.74105\n",
      "lambda = -1.53695\n",
      "lambda = -2.17325\n",
      "lambda = -1.91453\n",
      "lambda = -3.7298\n",
      "lambda = -2.05919\n",
      "lambda = -1.58723\n",
      "lambda = -1.96612\n",
      "lambda = -1.66231\n",
      "lambda = -2.74796\n",
      "lambda = -1.73964\n",
      "lambda = -3.27694\n",
      "lambda = -2.00383\n",
      "lambda = -1.47142\n",
      "lambda = -3.30181\n",
      "lambda = -1.54627\n",
      "lambda = -4.72928\n",
      "lambda = -2.20426\n",
      "lambda = -3.35659\n",
      "lambda = -1.78295\n",
      "lambda = -6.64632\n",
      "lambda = -1.98951\n",
      "lambda = -1.98396\n",
      "lambda = -3.99425\n",
      "lambda = -2.00128\n",
      "lambda = -1.7473\n",
      "lambda = -1.86346\n",
      "lambda = -2.03051\n",
      "lambda = -3.25043\n",
      "lambda = -3.34521\n",
      "lambda = -2.38572\n",
      "lambda = -2.6443\n",
      "lambda = -2.46611\n",
      "lambda = -2.53252\n",
      "lambda = -3.31742\n",
      "lambda = -3.16004\n",
      "lambda = -1.61204\n",
      "lambda = -1.67385\n",
      "lambda = -1.34523\n",
      "lambda = -1.49655\n",
      "lambda = -2.80129\n",
      "lambda = -1.21681\n",
      "lambda = -2.569\n",
      "lambda = -2.24863\n",
      "lambda = -1.37818\n",
      "lambda = -2.36518\n",
      "lambda = -1.49188\n",
      "lambda = -4.44459\n",
      "lambda = -2.90373\n",
      "lambda = -2.27557\n",
      "lambda = -4.39959\n",
      "lambda = -2.74672\n",
      "lambda = -3.62207\n",
      "lambda = -1.43425\n",
      "lambda = -1.6358\n",
      "lambda = -1.63479\n",
      "lambda = -1.45288\n",
      "lambda = -1.54631\n",
      "lambda = -4.34408\n",
      "lambda = -1.0144\n",
      "lambda = -3.86805\n",
      "lambda = -2.53441\n",
      "lambda = -1.96\n",
      "lambda = -1.90581\n",
      "lambda = -2.74212\n",
      "lambda = -2.18776\n",
      "lambda = -2.37113\n",
      "lambda = -1.54668\n",
      "lambda = -1.1974\n",
      "lambda = -2.50865\n",
      "lambda = -1.98446\n",
      "lambda = -2.49963\n",
      "lambda = -1.88135\n",
      "lambda = -2.63591\n",
      "lambda = -1.95024\n",
      "lambda = -2.44523\n",
      "lambda = -1.30578\n",
      "lambda = -1.98278\n",
      "lambda = -1.94461\n",
      "lambda = -1.57031\n",
      "lambda = -1.91647\n",
      "lambda = -1.55625\n",
      "lambda = -2.12599\n",
      "lambda = -1.7046\n",
      "lambda = -1.67598\n",
      "lambda = -1.77209\n",
      "lambda = -1.52223\n",
      "lambda = -2.56536\n",
      "lambda = -4.12454\n",
      "lambda = -4.47236\n",
      "lambda = -1.74309\n",
      "lambda = -1.61829\n",
      "lambda = -1.42636\n",
      "lambda = -2.63264\n",
      "lambda = -2.23516\n",
      "lambda = -1.40318\n",
      "lambda = -2.95944\n",
      "lambda = -4.68071\n",
      "lambda = -7.79896\n",
      "lambda = -1.34582\n",
      "lambda = -1.99086\n",
      "lambda = -3.12299\n",
      "lambda = -3.39404\n",
      "lambda = -2.36825\n",
      "lambda = -1.65437\n",
      "lambda = -1.61579\n",
      "lambda = -4.16879\n",
      "lambda = -2.37557\n",
      "lambda = -1.73469\n",
      "lambda = -2.79632\n",
      "lambda = -1.82199\n",
      "lambda = -1.70617\n",
      "lambda = -2.35679\n",
      "lambda = -1.86476\n",
      "lambda = -1.78827\n",
      "lambda = -2.02661\n",
      "lambda = -1.36123\n",
      "lambda = -2.77516\n",
      "lambda = -1.34823\n",
      "lambda = -2.27569\n",
      "lambda = -2.85717\n",
      "lambda = -5.76415\n",
      "lambda = -1.87889\n",
      "lambda = -1.47393\n",
      "lambda = -2.19172\n",
      "lambda = -1.67334\n",
      "lambda = -2.85517\n",
      "lambda = -8.73935\n",
      "lambda = -2.99481\n",
      "lambda = -1.50645\n",
      "lambda = -1.07209\n",
      "lambda = -2.07172\n",
      "lambda = -1.38521\n",
      "lambda = -4.54437\n",
      "lambda = -2.47558\n",
      "lambda = -2.98329\n",
      "lambda = -1.95235\n",
      "lambda = -4.42768\n",
      "lambda = -7.80781\n",
      "lambda = -2.37019\n",
      "lambda = -1.57396\n",
      "lambda = -4.79595\n",
      "lambda = -2.1583\n",
      "lambda = -1.42345\n",
      "lambda = -1.44497\n",
      "lambda = -2.30692\n",
      "lambda = -1.48158\n",
      "lambda = -2.76113\n",
      "lambda = -1.99404\n",
      "lambda = -1.39235\n",
      "lambda = -1.74074\n",
      "lambda = -5.90631\n",
      "lambda = -8.50453\n",
      "lambda = -0.961541\n",
      "lambda = -2.98902\n",
      "lambda = -1.47475\n",
      "lambda = -2.16037\n",
      "lambda = -1.2217\n",
      "lambda = -5.56301\n",
      "lambda = -2.10275\n",
      "lambda = -1.53482\n",
      "lambda = -3.47919\n",
      "lambda = -1.88546\n",
      "lambda = -1.3547\n",
      "lambda = -2.45644\n",
      "lambda = -3.47701\n",
      "lambda = -2.08532\n",
      "lambda = -4.29869\n",
      "lambda = -1.9986\n",
      "lambda = -2.58316\n",
      "lambda = -1.17041\n",
      "lambda = -3.67881\n",
      "lambda = -1.79621\n",
      "lambda = -1.58931\n",
      "lambda = -1.81378\n",
      "lambda = -6.95025\n",
      "lambda = -1.69001\n",
      "lambda = -4.0255\n",
      "lambda = -2.25167\n",
      "lambda = -1.44668\n",
      "lambda = -2.04394\n",
      "lambda = -1.92526\n",
      "lambda = -2.3059\n",
      "lambda = -1.59501\n",
      "lambda = -1.25181\n",
      "lambda = -1.16773\n",
      "lambda = -2.40407\n",
      "lambda = -1.14084\n",
      "lambda = -2.26589\n",
      "lambda = -1.52082\n",
      "lambda = -2.21867\n",
      "lambda = -5.11256\n",
      "lambda = -4.28084\n",
      "lambda = -1.82509\n",
      "lambda = -4.73054\n",
      "lambda = -7.45082\n",
      "lambda = -3.70461\n",
      "lambda = -1.5598\n",
      "lambda = -3.58194\n",
      "lambda = -3.93815\n",
      "lambda = -1.77104\n",
      "lambda = -2.57426\n",
      "lambda = -3.4163\n",
      "lambda = -3.26104\n",
      "lambda = -1.2187\n",
      "lambda = -3.97622\n",
      "lambda = -1.42729\n",
      "lambda = -2.0975\n",
      "lambda = -3.78101\n",
      "lambda = -1.21814\n",
      "lambda = -1.97225\n",
      "lambda = -4.06693\n",
      "lambda = -1.79154\n",
      "lambda = -4.86964\n",
      "lambda = -2.18716\n",
      "lambda = -1.77851\n",
      "lambda = -4.95158\n",
      "lambda = -2.2817\n",
      "lambda = -3.15043\n",
      "lambda = -2.8381\n",
      "lambda = -4.71021\n",
      "lambda = -1.50157\n",
      "lambda = -1.56719\n",
      "lambda = -3.47964\n",
      "lambda = -1.59161\n",
      "lambda = -1.77857\n",
      "lambda = -5.7821\n",
      "lambda = -2.6548\n",
      "lambda = -1.42005\n",
      "lambda = -2.54827\n",
      "lambda = -1.43755\n",
      "lambda = -4.41135\n",
      "lambda = -1.65672\n",
      "lambda = -2.75431\n",
      "lambda = -1.69415\n",
      "lambda = -2.26604\n",
      "lambda = -8.44395\n",
      "lambda = -3.68888\n",
      "lambda = -2.19894\n",
      "lambda = -2.10242\n",
      "lambda = -2.47262\n",
      "lambda = -12.4791\n",
      "lambda = -1.46224\n",
      "lambda = -1.59953\n",
      "lambda = -2.47633\n",
      "lambda = -2.44464\n",
      "lambda = -1.21018\n",
      "lambda = -3.41404\n",
      "lambda = -1.68979\n",
      "lambda = -2.31897\n",
      "lambda = -2.32143\n",
      "lambda = -2.6583\n",
      "lambda = -2.16106\n",
      "lambda = -5.14969\n",
      "lambda = -1.50724\n",
      "lambda = -1.62246\n",
      "lambda = -1.81375\n",
      "lambda = -2.09888\n",
      "lambda = -1.70394\n",
      "lambda = -1.90448\n",
      "lambda = -1.62441\n",
      "lambda = -1.35463\n",
      "lambda = -3.54183\n",
      "lambda = -1.8207\n",
      "lambda = -2.94683\n",
      "lambda = -2.36577\n",
      "lambda = -8.95854\n",
      "lambda = -4.41837\n",
      "lambda = -1.54907\n",
      "lambda = -2.51259\n",
      "lambda = -2.95188\n",
      "lambda = -1.71386\n",
      "lambda = -4.09154\n",
      "lambda = -1.62532\n",
      "lambda = -1.54735\n",
      "lambda = -1.81571\n",
      "lambda = -2.37696\n",
      "lambda = -2.27182\n",
      "lambda = -1.73219\n",
      "lambda = -2.84431\n",
      "lambda = -6.14815\n",
      "lambda = -2.10744\n",
      "lambda = -4.21375\n",
      "lambda = -1.59101\n",
      "lambda = -3.19144\n",
      "lambda = -2.46951\n",
      "lambda = -2.99409\n",
      "lambda = -1.47067\n",
      "lambda = -1.34409\n",
      "lambda = -2.01817\n",
      "lambda = -2.55278\n",
      "lambda = -4.04272\n",
      "lambda = -1.79715\n",
      "lambda = -2.96319\n",
      "lambda = -2.6529\n",
      "lambda = -1.82691\n",
      "lambda = -1.59139\n",
      "lambda = -2.12074\n",
      "lambda = -1.31492\n",
      "lambda = -1.92272\n",
      "lambda = -1.33974\n",
      "lambda = -2.0078\n",
      "lambda = -1.55243\n",
      "lambda = -1.16817\n",
      "lambda = -6.55686\n",
      "lambda = -1.83935\n",
      "lambda = -2.91833\n",
      "lambda = -7.48\n",
      "lambda = -2.55409\n"
     ]
    },
    {
     "name": "stdout",
     "output_type": "stream",
     "text": [
      "lambda = -1.79635\n",
      "lambda = -1.94051\n",
      "lambda = -1.18745\n",
      "lambda = -1.72541\n",
      "lambda = -2.7308\n",
      "lambda = -2.01892\n",
      "lambda = -4.62111\n",
      "lambda = -1.71506\n",
      "lambda = -2.09299\n",
      "lambda = -1.55421\n",
      "lambda = -2.1974\n",
      "lambda = -2.57917\n",
      "lambda = -1.81774\n",
      "lambda = -5.7553\n",
      "lambda = -2.61655\n",
      "lambda = -3.52776\n",
      "lambda = -1.82384\n",
      "lambda = -1.7242\n",
      "lambda = -4.11142\n",
      "lambda = -1.55143\n",
      "lambda = -5.16416\n",
      "lambda = -1.72469\n",
      "lambda = -2.16825\n",
      "lambda = -2.13644\n",
      "lambda = -2.05779\n",
      "lambda = -1.55485\n",
      "lambda = -1.36352\n",
      "lambda = -2.46737\n",
      "lambda = -4.23126\n",
      "lambda = -1.4146\n",
      "lambda = -3.38055\n",
      "lambda = -1.66608\n",
      "lambda = -1.30582\n",
      "lambda = -1.46863\n",
      "lambda = -2.82136\n",
      "lambda = -2.16715\n",
      "lambda = -3.16408\n",
      "lambda = -1.39374\n",
      "lambda = -1.55708\n",
      "lambda = -1.6027\n",
      "lambda = -1.60646\n",
      "lambda = -1.35427\n",
      "lambda = -2.07207\n",
      "lambda = -1.99521\n",
      "lambda = -1.50195\n",
      "lambda = -4.86052\n",
      "lambda = -2.04193\n",
      "lambda = -2.48096\n",
      "lambda = -2.06099\n",
      "lambda = -1.92113\n",
      "lambda = -2.0676\n",
      "lambda = -1.62748\n",
      "lambda = -4.52927\n",
      "lambda = -1.99667\n",
      "lambda = -2.28523\n",
      "lambda = -1.98745\n",
      "lambda = -3.55959\n",
      "lambda = -2.62664\n",
      "lambda = -1.23052\n",
      "lambda = -2.67965\n",
      "lambda = -2.07095\n",
      "lambda = -2.35198\n",
      "lambda = -1.31975\n",
      "lambda = -1.5179\n",
      "lambda = -2.47621\n",
      "lambda = -1.78337\n",
      "lambda = -2.88899\n",
      "lambda = -1.55082\n",
      "lambda = -1.77526\n",
      "lambda = -1.49825\n",
      "lambda = -1.98793\n",
      "lambda = -4.84565\n",
      "lambda = -2.37575\n",
      "lambda = -7.37052\n",
      "lambda = -2.06674\n",
      "lambda = -3.57356\n",
      "lambda = -1.97095\n",
      "lambda = -3.05864\n",
      "lambda = -1.79058\n",
      "lambda = -2.17888\n",
      "lambda = -3.44489\n",
      "lambda = -2.15876\n",
      "lambda = -1.43676\n",
      "lambda = -1.90956\n",
      "lambda = -1.2762\n",
      "lambda = -1.38646\n",
      "lambda = -2.40457\n",
      "lambda = -2.30128\n",
      "lambda = -4.76668\n",
      "lambda = -1.7273\n",
      "lambda = -1.2722\n",
      "lambda = -1.66499\n",
      "lambda = -1.68632\n",
      "lambda = -2.83178\n",
      "lambda = -1.81341\n",
      "lambda = -2.21799\n",
      "lambda = -1.9341\n",
      "lambda = -1.7264\n",
      "lambda = -1.4717\n",
      "lambda = -1.98534\n",
      "lambda = -1.31603\n",
      "lambda = -1.26228\n",
      "lambda = -3.74686\n",
      "lambda = -1.74619\n",
      "lambda = -2.05165\n",
      "lambda = -2.13399\n",
      "lambda = -2.46918\n",
      "lambda = -1.18574\n",
      "lambda = -1.73408\n",
      "lambda = -2.15043\n",
      "lambda = -2.11122\n",
      "lambda = -3.10242\n",
      "lambda = -3.16387\n",
      "lambda = -2.3824\n",
      "lambda = -3.95295\n",
      "lambda = -1.48831\n",
      "lambda = -4.26194\n",
      "lambda = -4.03141\n",
      "lambda = -1.43883\n",
      "lambda = -1.85339\n",
      "lambda = -2.29053\n",
      "lambda = -1.41175\n",
      "lambda = -1.32249\n",
      "lambda = -5.18538\n",
      "lambda = -1.65479\n",
      "lambda = -3.84503\n",
      "lambda = -1.80993\n",
      "lambda = -1.28336\n",
      "lambda = -2.27699\n",
      "lambda = -1.70552\n",
      "lambda = -1.52177\n",
      "lambda = -1.8936\n",
      "lambda = -1.96944\n",
      "lambda = -1.63991\n",
      "lambda = -2.43867\n",
      "lambda = -2.74823\n",
      "lambda = -2.36484\n"
     ]
    }
   ],
   "source": [
    "no_subcube = 500\n",
    "shift = 1.0\n",
    "\n",
    "testcd = define_test(s_test = 1024,s_train = 128)\n",
    "print(testcd)\n",
    "\n",
    "maxlog_list = []\n",
    "\n",
    "# get a random subcubes\n",
    "trial_sample = get_samples(s_sample = 128, \n",
    "                        nsamples = no_subcube, \n",
    "                        h5_filename = \"fields_z=1.0.hdf5\", \n",
    "                        test_coords = testcd)\n",
    "#     trial_sample[0].shape\n",
    "\n",
    "for i in range(no_subcube):\n",
    "\n",
    "    maxlog = get_lambda_boxcox(subcube = trial_sample[i],\n",
    "                               shift = shift)\n",
    "    maxlog_list.append(maxlog)\n",
    "\n"
   ]
  },
  {
   "cell_type": "code",
   "execution_count": 71,
   "metadata": {},
   "outputs": [
    {
     "data": {
      "image/png": "[encoded data removed]",
      "text/plain": [
       "<matplotlib.figure.Figure at 0x2b0f6642aeb8>"
      ]
     },
     "metadata": {
      "needs_background": "light"
     },
     "output_type": "display_data"
    }
   ],
   "source": [
    "plt.figure(figsize=(16,8))\n",
    "plt.title(\"500 subcubes, 128 edge\")\n",
    "_ = plt.hist(maxlog_list, bins = 50)"
   ]
  },
  {
   "cell_type": "markdown",
   "metadata": {},
   "source": [
    "Using the best estimation for the lambda to convert the whole cube:"
   ]
  },
  {
   "cell_type": "code",
   "execution_count": 74,
   "metadata": {},
   "outputs": [
    {
     "name": "stdout",
     "output_type": "stream",
     "text": [
      "-2.054718380766178\n",
      "-2.4869664835481404\n"
     ]
    }
   ],
   "source": [
    "print(np.median(np.array(maxlog_list)))\n",
    "print(np.array(maxlog_list).mean())"
   ]
  },
  {
   "cell_type": "code",
   "execution_count": 76,
   "metadata": {},
   "outputs": [
    {
     "data": {
      "text/plain": [
       "-2.054718380766178"
      ]
     },
     "execution_count": 76,
     "metadata": {},
     "output_type": "execute_result"
    }
   ],
   "source": [
    "best_lambda = np.median(np.array(maxlog_list))\n",
    "best_lambda"
   ]
  },
  {
   "cell_type": "code",
   "execution_count": 87,
   "metadata": {},
   "outputs": [
    {
     "data": {
      "text/plain": [
       "(2048, 2048, 2048)"
      ]
     },
     "execution_count": 87,
     "metadata": {},
     "output_type": "execute_result"
    }
   ],
   "source": [
    "whole_new_f = np.empty(shape = (f.shape[0],f.shape[1],f.shape[2]),\n",
    "                       dtype = np.float64)\n",
    "whole_new_f.shape"
   ]
  },
  {
   "cell_type": "code",
   "execution_count": 88,
   "metadata": {
    "scrolled": true
   },
   "outputs": [
    {
     "data": {
      "text/plain": [
       "array([[[0.01423424, 0.        , 0.        , ..., 0.        ,\n",
       "         0.        , 0.15768795],\n",
       "        [0.        , 0.15960725, 0.06340617, ..., 0.        ,\n",
       "         0.22577764, 0.03414862],\n",
       "        [0.01606615, 0.05065046, 0.01761026, ..., 0.        ,\n",
       "         0.09053455, 0.01176273],\n",
       "        ...,\n",
       "        [0.        , 0.        , 0.0049104 , ..., 0.        ,\n",
       "         0.        , 0.        ],\n",
       "        [0.18112671, 0.07281356, 0.02402313, ..., 0.1032445 ,\n",
       "         0.        , 0.        ],\n",
       "        [0.09171937, 0.02912485, 0.        , ..., 0.03091806,\n",
       "         0.        , 0.14065303]]], dtype=float32)"
      ]
     },
     "execution_count": 88,
     "metadata": {},
     "output_type": "execute_result"
    }
   ],
   "source": [
    "i = 0\n",
    "\n",
    "def boxcox_transform(f_wall):\n",
    "    \n",
    "#     flat_cube = f[i:i+1,:,:]\n",
    "    flat_cube = f_wall\n",
    "    # flat_cube = flat_cube.flatten()\n",
    "    flat_cube = flat_cube + shift\n",
    "#     print(len(flat_cube))\n",
    "\n",
    "    xt = stats.boxcox(flat_cube, lmbda = best_lambda)\n",
    "#     print(xt.shape)\n",
    "    \n",
    "    return xt\n",
    "\n",
    "boxcox_transform(f_wall = f[i:i+1,:,:])"
   ]
  },
  {
   "cell_type": "code",
   "execution_count": 89,
   "metadata": {},
   "outputs": [],
   "source": [
    "for i in range(f.shape[0]):\n",
    "    if i % 250 == 0:\n",
    "        print(str(i) + \" / \" + str(f.shape[0]))\n",
    "    \n",
    "    whole_new_f[i:i+1,:,:] = boxcox_transform(f_wall = f[i:i+1,:,:])\n",
    "    "
   ]
  },
  {
   "cell_type": "code",
   "execution_count": 90,
   "metadata": {},
   "outputs": [
    {
     "name": "stdout",
     "output_type": "stream",
     "text": [
      "(2048, 2048, 2048)\n",
      "0.13956263593612545\n",
      "0.0\n",
      "0.4866846799850464\n"
     ]
    }
   ],
   "source": [
    "print(whole_new_f.shape)\n",
    "print(whole_new_f.mean())\n",
    "print(whole_new_f.min())\n",
    "print(whole_new_f.max())"
   ]
  },
  {
   "cell_type": "code",
   "execution_count": 93,
   "metadata": {},
   "outputs": [],
   "source": [
    "hf = h5py.File('boxcox_' + \"{0:.2f}\".format(best_lambda) + \\\n",
    "               'lambda_redshift1.h5', 'w')\n",
    "hf.create_dataset('delta_HI', data=whole_new_f)\n",
    "hf.close()"
   ]
  },
  {
   "cell_type": "markdown",
   "metadata": {},
   "source": [
    "#### Sampling a subcube and looking at the distribution"
   ]
  },
  {
   "cell_type": "code",
   "execution_count": 100,
   "metadata": {},
   "outputs": [
    {
     "name": "stdout",
     "output_type": "stream",
     "text": [
      "{'x': [256, 1280], 'y': [128, 1152], 'z': [768, 1792]}\n",
      "Sampling finished.\n",
      "Counter = 1 / 1\n"
     ]
    },
    {
     "data": {
      "text/plain": [
       "(128, 128, 128)"
      ]
     },
     "execution_count": 100,
     "metadata": {},
     "output_type": "execute_result"
    }
   ],
   "source": [
    "no_subcube = 1\n",
    "\n",
    "testcd = define_test(s_test = 1024,s_train = 128)\n",
    "print(testcd)\n",
    "\n",
    "# get a random subcubes\n",
    "trial_sample = get_samples(s_sample = 128, \n",
    "                        nsamples = 1, \n",
    "                        h5_filename = \"boxcox_-2.05lambda_redshift1.h5\", \n",
    "                        test_coords = testcd)\n",
    "trial_sample[0].shape"
   ]
  },
  {
   "cell_type": "code",
   "execution_count": 101,
   "metadata": {},
   "outputs": [
    {
     "data": {
      "image/png": "[encoded data removed]",
      "text/plain": [
       "<matplotlib.figure.Figure at 0x2b0f666a32e8>"
      ]
     },
     "metadata": {
      "needs_background": "light"
     },
     "output_type": "display_data"
    }
   ],
   "source": [
    "plt.figure(figsize=(16,8))\n",
    "plt.title(\"BoxCox Transformed Subcube, 128 edge\")\n",
    "_ = plt.hist(trial_sample[0].flatten(), bins = 50)"
   ]
  },
  {
   "cell_type": "code",
   "execution_count": null,
   "metadata": {},
   "outputs": [],
   "source": []
  },
  {
   "cell_type": "code",
   "execution_count": null,
   "metadata": {},
   "outputs": [],
   "source": []
  },
  {
   "cell_type": "code",
   "execution_count": null,
   "metadata": {},
   "outputs": [],
   "source": []
  },
  {
   "cell_type": "code",
   "execution_count": 6,
   "metadata": {},
   "outputs": [
    {
     "data": {
      "text/plain": [
       "Text(0.5,1,'Probplot after Box-Cox transformation')"
      ]
     },
     "execution_count": 6,
     "metadata": {},
     "output_type": "execute_result"
    },
    {
     "data": {
      "image/png": "[encoded data removed]",
      "text/plain": [
       "<matplotlib.figure.Figure at 0x2b0f6679d780>"
      ]
     },
     "metadata": {
      "needs_background": "light"
     },
     "output_type": "display_data"
    }
   ],
   "source": [
    "#plotting \n",
    "fig = plt.figure(figsize = (16,8))\n",
    "ax1 = fig.add_subplot(211)\n",
    "#x = stats.loggamma.rvs(5, size=500) + 5\n",
    "stats.probplot(flat_cube, \n",
    "               dist=stats.norm, \n",
    "               plot=ax1)\n",
    "ax1.set_xlabel('')\n",
    "ax1.set_title('Probplot against normal distribution')\n",
    "ax2 = fig.add_subplot(212)\n",
    "xt, _ = stats.boxcox(flat_cube)\n",
    "stats.probplot(xt, dist=stats.norm, plot=ax2)\n",
    "ax2.set_title('Probplot after Box-Cox transformation')"
   ]
  },
  {
   "cell_type": "code",
   "execution_count": null,
   "metadata": {},
   "outputs": [],
   "source": [
    "# #raw data\n",
    "# #n, bins, patches = plt.hist(x=flat_cube, bins='auto', color='#0504aa',alpha=0.7, rwidth=0.85)\n",
    "# bins = np.arange(0,max(flat_cube),10000)\n",
    "# plt.hist(x=(flat_cube), bins='auto')\n",
    "# plt.grid(axis='y', alpha=0.75)\n",
    "# plt.xlabel('Value')\n",
    "# plt.ylabel('Frequency')\n",
    "# plt.title('Raw data histogram')"
   ]
  },
  {
   "cell_type": "code",
   "execution_count": 7,
   "metadata": {},
   "outputs": [
    {
     "data": {
      "text/plain": [
       "Text(0.5,1,'Box cox transformed data histogram')"
      ]
     },
     "execution_count": 7,
     "metadata": {},
     "output_type": "execute_result"
    },
    {
     "data": {
      "image/png": "[encoded data removed]",
      "text/plain": [
       "<matplotlib.figure.Figure at 0x2b0f65fa2390>"
      ]
     },
     "metadata": {
      "needs_background": "light"
     },
     "output_type": "display_data"
    }
   ],
   "source": [
    "#histogram of the transformed data\n",
    "#n, bins, patches = plt.hist(x=xt, bins='auto', color='#0504aa',alpha=0.7, rwidth=0.85)\n",
    "bins = np.arange(0,max(xt),10000)\n",
    "plt.hist(x=(xt), bins=bins)\n",
    "plt.grid(axis='y', alpha=0.75)\n",
    "plt.xlabel('Value')\n",
    "plt.ylabel('Frequency')\n",
    "plt.title('Box cox transformed data histogram')"
   ]
  },
  {
   "cell_type": "code",
   "execution_count": null,
   "metadata": {},
   "outputs": [],
   "source": [
    "#normality plot\n",
    "fig = plt.figure()\n",
    "ax = fig.add_subplot(111)\n",
    "prob = stats.boxcox_normplot(flat_cube[:10000], -50, 50, plot=ax)\n",
    "_, maxlog = stats.boxcox(flat_cube[:10000])\n",
    "ax.axvline(maxlog, color='r')"
   ]
  },
  {
   "cell_type": "code",
   "execution_count": null,
   "metadata": {},
   "outputs": [],
   "source": [
    "############################\n",
    "#https://docs.scipy.org/doc/scipy/reference/generated/scipy.stats.boxcox.html\n",
    "#final function\n",
    "#f = input data\n",
    "#s => 0 = [0,1] transformed\n",
    "#     1 = [-1,1] tansfomed\n",
    "def box_cox_transform_and_scale(f,s=0):\n",
    "    flat_cube = f.flatten() \n",
    "    #shift data to make it positive\n",
    "    flat_cube = flat_cube + min(flat_cube) + 0.1\n",
    "    xt, _ = stats.boxcox(flat_cube)\n",
    "    if(s==0):\n",
    "    #[0,-1] scaling\n",
    "        scaled = (xt - min(xt))/(max(xt)-min(xt))\n",
    "    else:\n",
    "        scaled = 2*(xt - min(xt))/(max(xt)-min(xt))- 1\n",
    "    return scaled\n"
   ]
  },
  {
   "cell_type": "code",
   "execution_count": null,
   "metadata": {},
   "outputs": [],
   "source": [
    "bct = box_cox_transform_and_scale(f[:100,:100,:100])\n"
   ]
  },
  {
   "cell_type": "code",
   "execution_count": null,
   "metadata": {},
   "outputs": [],
   "source": []
  }
 ],
 "metadata": {
  "kernelspec": {
   "display_name": "Python 3",
   "language": "python",
   "name": "python3"
  },
  "language_info": {
   "codemirror_mode": {
    "name": "ipython",
    "version": 3
   },
   "file_extension": ".py",
   "mimetype": "text/x-python",
   "name": "python",
   "nbconvert_exporter": "python",
   "pygments_lexer": "ipython3",
   "version": "3.6.3"
  }
 },
 "nbformat": 4,
 "nbformat_minor": 2
}
