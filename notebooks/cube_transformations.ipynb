{
 "cells": [
  {
   "cell_type": "markdown",
   "metadata": {},
   "source": [
    "These transformations are done and the outputs will be saved tio /scratch folder because they should be on the whole cube instead of the subcubes. \n",
    "\n",
    "* scaling [0,1] \n",
    "* standardizing -> (x - mean )/ stddev\n",
    "* scaling [-1,1]\n",
    "* standardizing and scaling [0,1]\n",
    "* standardizing and scaling [-1,1]\n",
    "* box-cox transformation\n",
    "* box-cox transformation and scaling [0,1]\n",
    "* box-cox transformation and scaling [-1,1]\n",
    "* box-cox transformation and standardizing\n",
    "* standardizing and box-cox transformation\n",
    "* reciprocal transformation and scaling [0,1]\n",
    "* reciprocal transformation and scaling [-1,1]"
   ]
  },
  {
   "cell_type": "code",
   "execution_count": 5,
   "metadata": {},
   "outputs": [],
   "source": [
    "import pandas as pd\n",
    "import h5py\n",
    "import numpy as np"
   ]
  },
  {
   "cell_type": "code",
   "execution_count": 6,
   "metadata": {},
   "outputs": [],
   "source": [
    "datapath=''\n",
    "redshift = '1.0'\n",
    "f = h5py.File(datapath+'fields_z='+redshift+'.hdf5', 'r')\n",
    "f=f['delta_HI']"
   ]
  },
  {
   "cell_type": "markdown",
   "metadata": {},
   "source": [
    "# Helper Functions"
   ]
  },
  {
   "cell_type": "markdown",
   "metadata": {},
   "source": [
    "## Get max of whole cube"
   ]
  },
  {
   "cell_type": "code",
   "execution_count": 7,
   "metadata": {},
   "outputs": [
    {
     "data": {
      "text/plain": [
       "11269703000.0"
      ]
     },
     "execution_count": 7,
     "metadata": {},
     "output_type": "execute_result"
    }
   ],
   "source": [
    "def get_max_cube(f):\n",
    "    max_list = []\n",
    "    for i in range(f.shape[0]):\n",
    "        #print(np.max(f[i:i+1,:,:]))\n",
    "        max_list.append(np.max(f[i:i+1,:,:]))\n",
    "    max_cube = max(max_list)\n",
    "    return max_cube\n",
    "\n",
    "get_max_cube(f = f)"
   ]
  },
  {
   "cell_type": "markdown",
   "metadata": {},
   "source": [
    "## Get min of whole cube"
   ]
  },
  {
   "cell_type": "code",
   "execution_count": 8,
   "metadata": {},
   "outputs": [
    {
     "data": {
      "text/plain": [
       "0.0"
      ]
     },
     "execution_count": 8,
     "metadata": {},
     "output_type": "execute_result"
    }
   ],
   "source": [
    "def get_min_cube(f):\n",
    "    min_list = []\n",
    "    for i in range(f.shape[0]):\n",
    "        #print(np.max(f[i:i+1,:,:]))\n",
    "        min_list.append(np.min(f[i:i+1,:,:]))\n",
    "    min_cube = min(min_list)\n",
    "    return min_cube\n",
    "\n",
    "get_min_cube(f = f)"
   ]
  },
  {
   "cell_type": "markdown",
   "metadata": {},
   "source": [
    "## Get mean of whole cube"
   ]
  },
  {
   "cell_type": "code",
   "execution_count": 10,
   "metadata": {},
   "outputs": [
    {
     "data": {
      "text/plain": [
       "8658.475"
      ]
     },
     "execution_count": 10,
     "metadata": {},
     "output_type": "execute_result"
    }
   ],
   "source": [
    "def get_mean_cube(f):\n",
    "    mean_list = []\n",
    "    for i in range(f.shape[0]):\n",
    "        #print(np.max(f[i:i+1,:,:]))\n",
    "        mean_list.append(np.mean(f[i:i+1,:,:]))\n",
    "    mean_cube = np.mean(mean_list)\n",
    "    return mean_cube\n",
    "\n",
    "mean_cube = get_mean_cube(f = f)\n",
    "mean_cube"
   ]
  },
  {
   "cell_type": "markdown",
   "metadata": {},
   "source": [
    "## Get stddev of whole cube"
   ]
  },
  {
   "cell_type": "code",
   "execution_count": 11,
   "metadata": {},
   "outputs": [
    {
     "data": {
      "text/plain": [
       "2636760.2"
      ]
     },
     "execution_count": 11,
     "metadata": {},
     "output_type": "execute_result"
    }
   ],
   "source": [
    "def get_stddev_cube(f, mean_cube):\n",
    "    variance_list = []\n",
    "    for i in range(f.shape[0]):\n",
    "        variance_list.append(np.mean(np.square(f[i:i+1,:,:] - mean_cube)))\n",
    "    stddev_cube = np.sqrt(np.mean(variance_list))\n",
    "    return stddev_cube\n",
    "\n",
    "stddev_cube = get_stddev_cube(f = f, mean_cube = mean_cube)\n",
    "stddev_cube"
   ]
  },
  {
   "cell_type": "markdown",
   "metadata": {},
   "source": [
    "# Scaling [0,1]"
   ]
  },
  {
   "cell_type": "code",
   "execution_count": null,
   "metadata": {},
   "outputs": [],
   "source": []
  }
 ],
 "metadata": {
  "kernelspec": {
   "display_name": "Python 3",
   "language": "python",
   "name": "python3"
  },
  "language_info": {
   "codemirror_mode": {
    "name": "ipython",
    "version": 3
   },
   "file_extension": ".py",
   "mimetype": "text/x-python",
   "name": "python",
   "nbconvert_exporter": "python",
   "pygments_lexer": "ipython3",
   "version": "3.6.3"
  }
 },
 "nbformat": 4,
 "nbformat_minor": 2
}
