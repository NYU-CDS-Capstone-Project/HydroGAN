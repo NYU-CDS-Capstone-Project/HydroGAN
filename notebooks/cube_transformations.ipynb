{
 "cells": [
  {
   "cell_type": "markdown",
   "metadata": {},
   "source": [
    "These transformations are done and the outputs will be saved tio /scratch folder because they should be on the whole cube instead of the subcubes. \n",
    "\n",
    "* Min-max scaling [0,1] \n",
    "* Min-max scaling [-1,1]\n",
    "* standardizing -> (x - mean )/ stddev\n",
    "* standardizing and scaling [0,1]\n",
    "* standardizing and scaling [-1,1]\n",
    "* square root transformation\n",
    "* box-cox transformation\n",
    "* box-cox transformation and scaling [0,1]\n",
    "* box-cox transformation and scaling [-1,1]\n",
    "* box-cox transformation and standardizing\n",
    "* standardizing and box-cox transformation\n",
    "* reciprocal transformation and scaling [0,1]\n",
    "* reciprocal transformation and scaling [-1,1]"
   ]
  },
  {
   "cell_type": "code",
   "execution_count": 9,
   "metadata": {},
   "outputs": [],
   "source": [
    "import pandas as pd\n",
    "import h5py\n",
    "import numpy as np\n",
    "import matplotlib.pyplot as plt\n",
    "from scipy import stats\n",
    "\n",
    "%matplotlib inline"
   ]
  },
  {
   "cell_type": "code",
   "execution_count": 10,
   "metadata": {},
   "outputs": [],
   "source": [
    "datapath=''\n",
    "redshift = '1.0'\n",
    "f = h5py.File(datapath+'fields_z='+redshift+'.hdf5', 'r')\n",
    "f=f['delta_HI']"
   ]
  },
  {
   "cell_type": "markdown",
   "metadata": {},
   "source": [
    "# Helper Functions"
   ]
  },
  {
   "cell_type": "markdown",
   "metadata": {},
   "source": [
    "## Get max of whole cube"
   ]
  },
  {
   "cell_type": "code",
   "execution_count": 11,
   "metadata": {},
   "outputs": [
    {
     "data": {
      "text/plain": [
       "11269703000.0"
      ]
     },
     "execution_count": 11,
     "metadata": {},
     "output_type": "execute_result"
    }
   ],
   "source": [
    "def get_max_cube(f):\n",
    "    max_list = []\n",
    "    for i in range(f.shape[0]):\n",
    "        #print(np.max(f[i:i+1,:,:]))\n",
    "        max_list.append(np.max(f[i:i+1,:,:]))\n",
    "    max_cube = max(max_list)\n",
    "    return max_cube\n",
    "\n",
    "max_cube = get_max_cube(f = f)\n",
    "max_cube"
   ]
  },
  {
   "cell_type": "markdown",
   "metadata": {},
   "source": [
    "## Get min of whole cube"
   ]
  },
  {
   "cell_type": "code",
   "execution_count": 12,
   "metadata": {},
   "outputs": [
    {
     "data": {
      "text/plain": [
       "0.0"
      ]
     },
     "execution_count": 12,
     "metadata": {},
     "output_type": "execute_result"
    }
   ],
   "source": [
    "def get_min_cube(f):\n",
    "    min_list = []\n",
    "    for i in range(f.shape[0]):\n",
    "        #print(np.max(f[i:i+1,:,:]))\n",
    "        min_list.append(np.min(f[i:i+1,:,:]))\n",
    "    min_cube = min(min_list)\n",
    "    return min_cube\n",
    "\n",
    "min_cube = get_min_cube(f = f)\n",
    "min_cube"
   ]
  },
  {
   "cell_type": "markdown",
   "metadata": {},
   "source": [
    "## Get mean of whole cube"
   ]
  },
  {
   "cell_type": "code",
   "execution_count": 13,
   "metadata": {},
   "outputs": [
    {
     "data": {
      "text/plain": [
       "8658.475"
      ]
     },
     "execution_count": 13,
     "metadata": {},
     "output_type": "execute_result"
    }
   ],
   "source": [
    "def get_mean_cube(f):\n",
    "    mean_list = []\n",
    "    for i in range(f.shape[0]):\n",
    "        #print(np.max(f[i:i+1,:,:]))\n",
    "        mean_list.append(np.mean(f[i:i+1,:,:]))\n",
    "    mean_cube = np.mean(mean_list)\n",
    "    return mean_cube\n",
    "\n",
    "mean_cube = get_mean_cube(f = f)\n",
    "mean_cube"
   ]
  },
  {
   "cell_type": "markdown",
   "metadata": {},
   "source": [
    "## Get stddev of whole cube"
   ]
  },
  {
   "cell_type": "code",
   "execution_count": 14,
   "metadata": {},
   "outputs": [
    {
     "data": {
      "text/plain": [
       "2636760.2"
      ]
     },
     "execution_count": 14,
     "metadata": {},
     "output_type": "execute_result"
    }
   ],
   "source": [
    "def get_stddev_cube(f, mean_cube):\n",
    "    variance_list = []\n",
    "    for i in range(f.shape[0]):\n",
    "        variance_list.append(np.mean(np.square(f[i:i+1,:,:] - mean_cube)))\n",
    "    stddev_cube = np.sqrt(np.mean(variance_list))\n",
    "    return stddev_cube\n",
    "\n",
    "stddev_cube = get_stddev_cube(f = f, mean_cube = mean_cube)\n",
    "stddev_cube"
   ]
  },
  {
   "cell_type": "markdown",
   "metadata": {},
   "source": [
    "# Min-Max Scaling [0,1]"
   ]
  },
  {
   "cell_type": "code",
   "execution_count": null,
   "metadata": {},
   "outputs": [],
   "source": [
    "whole_new_f = np.empty(shape = (f.shape[0],f.shape[1],f.shape[2]),\n",
    "                       dtype = np.float64)\n",
    "whole_new_f.shape"
   ]
  },
  {
   "cell_type": "code",
   "execution_count": null,
   "metadata": {},
   "outputs": [],
   "source": [
    "whole_new_f[0:1,:,:].shape"
   ]
  },
  {
   "cell_type": "code",
   "execution_count": null,
   "metadata": {},
   "outputs": [],
   "source": [
    "for i in range(f.shape[0]):\n",
    "    whole_new_f[i:i+1,:,:] = (f[i:i+1,:,:] - min_cube)/(max_cube-min_cube)"
   ]
  },
  {
   "cell_type": "code",
   "execution_count": null,
   "metadata": {},
   "outputs": [],
   "source": [
    "whole_new_f[0,:,:]"
   ]
  },
  {
   "cell_type": "code",
   "execution_count": null,
   "metadata": {
    "scrolled": true
   },
   "outputs": [],
   "source": [
    "whole_new_f.shape"
   ]
  },
  {
   "cell_type": "code",
   "execution_count": null,
   "metadata": {},
   "outputs": [],
   "source": [
    "whole_new_f.mean()"
   ]
  },
  {
   "cell_type": "code",
   "execution_count": null,
   "metadata": {},
   "outputs": [],
   "source": [
    "whole_new_f.min()"
   ]
  },
  {
   "cell_type": "code",
   "execution_count": null,
   "metadata": {},
   "outputs": [],
   "source": [
    "whole_new_f.max()"
   ]
  },
  {
   "cell_type": "code",
   "execution_count": null,
   "metadata": {},
   "outputs": [],
   "source": [
    "hf = h5py.File('minmax_scale_01_redshift1.h5', 'w')"
   ]
  },
  {
   "cell_type": "code",
   "execution_count": null,
   "metadata": {},
   "outputs": [],
   "source": [
    "hf.create_dataset('delta_HI', data=whole_new_f)"
   ]
  },
  {
   "cell_type": "code",
   "execution_count": null,
   "metadata": {},
   "outputs": [],
   "source": [
    "hf.close()"
   ]
  },
  {
   "cell_type": "markdown",
   "metadata": {},
   "source": [
    "# Min-Max Scaling [-1,1]"
   ]
  },
  {
   "cell_type": "code",
   "execution_count": null,
   "metadata": {},
   "outputs": [],
   "source": [
    "whole_new_f = np.empty(shape = (f.shape[0],f.shape[1],f.shape[2]),\n",
    "                       dtype = np.float64)\n",
    "whole_new_f.shape"
   ]
  },
  {
   "cell_type": "code",
   "execution_count": null,
   "metadata": {},
   "outputs": [],
   "source": [
    "for i in range(f.shape[0]):\n",
    "    whole_new_f[i:i+1,:,:] = 2* (f[i:i+1,:,:] - min_cube)/(max_cube-min_cube) - 1"
   ]
  },
  {
   "cell_type": "code",
   "execution_count": null,
   "metadata": {},
   "outputs": [],
   "source": [
    "whole_new_f.shape"
   ]
  },
  {
   "cell_type": "code",
   "execution_count": null,
   "metadata": {},
   "outputs": [],
   "source": [
    "whole_new_f.mean()"
   ]
  },
  {
   "cell_type": "code",
   "execution_count": null,
   "metadata": {},
   "outputs": [],
   "source": [
    "get_stddev_cube(f=whole_new_f, mean_cube=mean_cube)"
   ]
  },
  {
   "cell_type": "code",
   "execution_count": null,
   "metadata": {},
   "outputs": [],
   "source": [
    "whole_new_f.min()"
   ]
  },
  {
   "cell_type": "code",
   "execution_count": null,
   "metadata": {},
   "outputs": [],
   "source": [
    "whole_new_f.max()"
   ]
  },
  {
   "cell_type": "code",
   "execution_count": null,
   "metadata": {},
   "outputs": [],
   "source": [
    "hf = h5py.File('minmax_scale_neg11_redshift1.h5', 'w')"
   ]
  },
  {
   "cell_type": "code",
   "execution_count": null,
   "metadata": {
    "scrolled": true
   },
   "outputs": [],
   "source": [
    "hf.create_dataset('delta_HI', data=whole_new_f)"
   ]
  },
  {
   "cell_type": "code",
   "execution_count": null,
   "metadata": {},
   "outputs": [],
   "source": [
    "hf.close()"
   ]
  },
  {
   "cell_type": "markdown",
   "metadata": {},
   "source": [
    "# Standardizing"
   ]
  },
  {
   "cell_type": "code",
   "execution_count": 8,
   "metadata": {
    "scrolled": true
   },
   "outputs": [
    {
     "data": {
      "text/plain": [
       "(2048, 2048, 2048)"
      ]
     },
     "execution_count": 8,
     "metadata": {},
     "output_type": "execute_result"
    }
   ],
   "source": [
    "whole_new_f = np.empty(shape = (f.shape[0],f.shape[1],f.shape[2]),\n",
    "                       dtype = np.float64)\n",
    "whole_new_f.shape"
   ]
  },
  {
   "cell_type": "code",
   "execution_count": 15,
   "metadata": {},
   "outputs": [],
   "source": [
    "for i in range(f.shape[0]):\n",
    "    whole_new_f[i:i+1,:,:] = (f[i:i+1,:,:] - mean_cube)/ stddev_cube\n",
    "    "
   ]
  },
  {
   "cell_type": "code",
   "execution_count": 16,
   "metadata": {},
   "outputs": [
    {
     "data": {
      "text/plain": [
       "(2048, 2048, 2048)"
      ]
     },
     "execution_count": 16,
     "metadata": {},
     "output_type": "execute_result"
    }
   ],
   "source": [
    "whole_new_f.shape"
   ]
  },
  {
   "cell_type": "code",
   "execution_count": 17,
   "metadata": {},
   "outputs": [
    {
     "data": {
      "text/plain": [
       "5.36335680841665e-11"
      ]
     },
     "execution_count": 17,
     "metadata": {},
     "output_type": "execute_result"
    }
   ],
   "source": [
    "whole_new_f.mean()"
   ]
  },
  {
   "cell_type": "code",
   "execution_count": 18,
   "metadata": {},
   "outputs": [
    {
     "data": {
      "text/plain": [
       "-0.0032837549224495888"
      ]
     },
     "execution_count": 18,
     "metadata": {},
     "output_type": "execute_result"
    }
   ],
   "source": [
    "whole_new_f.min()"
   ]
  },
  {
   "cell_type": "code",
   "execution_count": 19,
   "metadata": {},
   "outputs": [
    {
     "data": {
      "text/plain": [
       "4274.06884765625"
      ]
     },
     "execution_count": 19,
     "metadata": {},
     "output_type": "execute_result"
    }
   ],
   "source": [
    "whole_new_f.max()"
   ]
  },
  {
   "cell_type": "code",
   "execution_count": 20,
   "metadata": {},
   "outputs": [],
   "source": [
    "hf = h5py.File('standardized_redshift1.h5', 'w')\n",
    "hf.create_dataset('delta_HI', data=whole_new_f)\n",
    "hf.close()"
   ]
  },
  {
   "cell_type": "markdown",
   "metadata": {},
   "source": [
    "# Box Cox Transformations"
   ]
  },
  {
   "cell_type": "code",
   "execution_count": null,
   "metadata": {},
   "outputs": [],
   "source": [
    "#102918, SB"
   ]
  },
  {
   "cell_type": "code",
   "execution_count": 59,
   "metadata": {},
   "outputs": [],
   "source": [
    "\"\"\"\n",
    "TODO : add get_samples() function here to sample\n",
    "        different subcubes from the 2048^3 cube\n",
    "\"\"\"\n",
    "\n",
    "# from get_samples import define_test\n",
    "# import random\n",
    "\n",
    "%run get_samples.py"
   ]
  },
  {
   "cell_type": "code",
   "execution_count": 60,
   "metadata": {},
   "outputs": [],
   "source": [
    "def get_lambda_boxcox(subcube, shift):\n",
    "    \n",
    "#     flat_cube = trial_sample[0].flatten()\n",
    "    flat_cube = subcube.flatten()\n",
    "    \n",
    "    # shifting with a positive constant to flat_cube for positiveness constraint\n",
    "    flat_cube = flat_cube + shift\n",
    "    \n",
    "    xt, maxlog, interval = stats.boxcox(flat_cube, alpha=0.05)\n",
    "    print(\"lambda = {:g}\".format(maxlog))\n",
    "    \n",
    "    return maxlog"
   ]
  },
  {
   "cell_type": "code",
   "execution_count": null,
   "metadata": {
    "scrolled": true
   },
   "outputs": [
    {
     "name": "stdout",
     "output_type": "stream",
     "text": [
      "{'x': [896, 1920], 'y': [1024, 2048], 'z': [256, 1280]}\n",
      "Sampling finished.\n",
      "Counter = 1 / 25\n",
      "Counter = 2 / 25\n",
      "Counter = 3 / 25\n",
      "Counter = 4 / 25\n",
      "Counter = 5 / 25\n",
      "Counter = 6 / 25\n",
      "Counter = 7 / 25\n",
      "Counter = 8 / 25\n",
      "Counter = 9 / 25\n",
      "Counter = 10 / 25\n",
      "Counter = 11 / 25\n",
      "Counter = 12 / 25\n",
      "Counter = 13 / 25\n",
      "Counter = 14 / 25\n",
      "Counter = 15 / 25\n",
      "Counter = 16 / 25\n",
      "Counter = 17 / 25\n",
      "Counter = 18 / 25\n",
      "Counter = 19 / 25\n",
      "Counter = 20 / 25\n",
      "Counter = 21 / 25\n",
      "Counter = 22 / 25\n",
      "Counter = 23 / 25\n",
      "Counter = 24 / 25\n",
      "Counter = 25 / 25\n"
     ]
    },
    {
     "name": "stderr",
     "output_type": "stream",
     "text": [
      "/share/apps/python3/3.6.3/intel/lib/python3.6/site-packages/scipy-1.0.0rc1-py3.6-linux-x86_64.egg/scipy/stats/morestats.py:901: RuntimeWarning: overflow encountered in square\n",
      "  llf -= N / 2.0 * np.log(np.sum((y - y_mean)**2. / N, axis=0))\n"
     ]
    },
    {
     "name": "stdout",
     "output_type": "stream",
     "text": [
      "lambda = -1.68634\n",
      "lambda = -2.74007\n",
      "lambda = -1.74964\n",
      "lambda = -2.37414\n",
      "lambda = -1.75611\n",
      "lambda = -1.85885\n",
      "lambda = -2.36277\n",
      "lambda = -1.6804\n",
      "lambda = -1.92178\n",
      "lambda = -2.46284\n",
      "lambda = -2.742\n",
      "lambda = -1.88411\n",
      "lambda = -1.33188\n",
      "lambda = -1.50005\n",
      "lambda = -2.06488\n",
      "lambda = -2.1777\n",
      "lambda = -2.04718\n",
      "lambda = -1.40957\n",
      "lambda = -1.49524\n",
      "lambda = -2.52848\n",
      "lambda = -1.56988\n",
      "lambda = -2.09544\n",
      "lambda = -2.16617\n",
      "lambda = -1.2937\n"
     ]
    }
   ],
   "source": [
    "no_subcube = 25\n",
    "shift = 1.0\n",
    "\n",
    "testcd = define_test(s_test = 1024,s_train = 128)\n",
    "print(testcd)\n",
    "\n",
    "maxlog_list = []\n",
    "\n",
    "# get a random subcubes\n",
    "trial_sample = get_samples(s_sample = 128, \n",
    "                        nsamples = no_subcube, \n",
    "                        h5_filename = \"fields_z=1.0.hdf5\", \n",
    "                        test_coords = testcd)\n",
    "#     trial_sample[0].shape\n",
    "\n",
    "for i in range(no_subcube):\n",
    "\n",
    "    maxlog = get_lambda_boxcox(subcube = trial_sample[i],\n",
    "                               shift = shift)\n",
    "    maxlog_list.append(maxlog)\n",
    "\n"
   ]
  },
  {
   "cell_type": "code",
   "execution_count": null,
   "metadata": {},
   "outputs": [],
   "source": [
    "plt.figure(figsize=(16,8))\n",
    "_ = plt.hist(maxlog_list)"
   ]
  },
  {
   "cell_type": "code",
   "execution_count": 6,
   "metadata": {},
   "outputs": [
    {
     "data": {
      "text/plain": [
       "Text(0.5,1,'Probplot after Box-Cox transformation')"
      ]
     },
     "execution_count": 6,
     "metadata": {},
     "output_type": "execute_result"
    },
    {
     "data": {
      "image/png": "[encoded data removed]",
      "text/plain": [
       "<matplotlib.figure.Figure at 0x2b0f6679d780>"
      ]
     },
     "metadata": {
      "needs_background": "light"
     },
     "output_type": "display_data"
    }
   ],
   "source": [
    "#plotting \n",
    "fig = plt.figure(figsize = (16,8))\n",
    "ax1 = fig.add_subplot(211)\n",
    "#x = stats.loggamma.rvs(5, size=500) + 5\n",
    "stats.probplot(flat_cube, \n",
    "               dist=stats.norm, \n",
    "               plot=ax1)\n",
    "ax1.set_xlabel('')\n",
    "ax1.set_title('Probplot against normal distribution')\n",
    "ax2 = fig.add_subplot(212)\n",
    "xt, _ = stats.boxcox(flat_cube)\n",
    "stats.probplot(xt, dist=stats.norm, plot=ax2)\n",
    "ax2.set_title('Probplot after Box-Cox transformation')"
   ]
  },
  {
   "cell_type": "code",
   "execution_count": null,
   "metadata": {},
   "outputs": [],
   "source": [
    "# #raw data\n",
    "# #n, bins, patches = plt.hist(x=flat_cube, bins='auto', color='#0504aa',alpha=0.7, rwidth=0.85)\n",
    "# bins = np.arange(0,max(flat_cube),10000)\n",
    "# plt.hist(x=(flat_cube), bins='auto')\n",
    "# plt.grid(axis='y', alpha=0.75)\n",
    "# plt.xlabel('Value')\n",
    "# plt.ylabel('Frequency')\n",
    "# plt.title('Raw data histogram')"
   ]
  },
  {
   "cell_type": "code",
   "execution_count": 7,
   "metadata": {},
   "outputs": [
    {
     "data": {
      "text/plain": [
       "Text(0.5,1,'Box cox transformed data histogram')"
      ]
     },
     "execution_count": 7,
     "metadata": {},
     "output_type": "execute_result"
    },
    {
     "data": {
      "image/png": "[encoded data removed]",
      "text/plain": [
       "<matplotlib.figure.Figure at 0x2b0f65fa2390>"
      ]
     },
     "metadata": {
      "needs_background": "light"
     },
     "output_type": "display_data"
    }
   ],
   "source": [
    "#histogram of the transformed data\n",
    "#n, bins, patches = plt.hist(x=xt, bins='auto', color='#0504aa',alpha=0.7, rwidth=0.85)\n",
    "bins = np.arange(0,max(xt),10000)\n",
    "plt.hist(x=(xt), bins=bins)\n",
    "plt.grid(axis='y', alpha=0.75)\n",
    "plt.xlabel('Value')\n",
    "plt.ylabel('Frequency')\n",
    "plt.title('Box cox transformed data histogram')"
   ]
  },
  {
   "cell_type": "code",
   "execution_count": null,
   "metadata": {},
   "outputs": [],
   "source": [
    "#normality plot\n",
    "fig = plt.figure()\n",
    "ax = fig.add_subplot(111)\n",
    "prob = stats.boxcox_normplot(flat_cube[:10000], -50, 50, plot=ax)\n",
    "_, maxlog = stats.boxcox(flat_cube[:10000])\n",
    "ax.axvline(maxlog, color='r')"
   ]
  },
  {
   "cell_type": "code",
   "execution_count": null,
   "metadata": {},
   "outputs": [],
   "source": [
    "############################\n",
    "#https://docs.scipy.org/doc/scipy/reference/generated/scipy.stats.boxcox.html\n",
    "#final function\n",
    "#f = input data\n",
    "#s => 0 = [0,1] transformed\n",
    "#     1 = [-1,1] tansfomed\n",
    "def box_cox_transform_and_scale(f,s=0):\n",
    "    flat_cube = f.flatten() \n",
    "    #shift data to make it positive\n",
    "    flat_cube = flat_cube + min(flat_cube) + 0.1\n",
    "    xt, _ = stats.boxcox(flat_cube)\n",
    "    if(s==0):\n",
    "    #[0,-1] scaling\n",
    "        scaled = (xt - min(xt))/(max(xt)-min(xt))\n",
    "    else:\n",
    "        scaled = 2*(xt - min(xt))/(max(xt)-min(xt))- 1\n",
    "    return scaled\n"
   ]
  },
  {
   "cell_type": "code",
   "execution_count": null,
   "metadata": {},
   "outputs": [],
   "source": [
    "bct = box_cox_transform_and_scale(f[:100,:100,:100])\n"
   ]
  },
  {
   "cell_type": "code",
   "execution_count": null,
   "metadata": {},
   "outputs": [],
   "source": []
  }
 ],
 "metadata": {
  "kernelspec": {
   "display_name": "Python 3",
   "language": "python",
   "name": "python3"
  },
  "language_info": {
   "codemirror_mode": {
    "name": "ipython",
    "version": 3
   },
   "file_extension": ".py",
   "mimetype": "text/x-python",
   "name": "python",
   "nbconvert_exporter": "python",
   "pygments_lexer": "ipython3",
   "version": "3.6.3"
  }
 },
 "nbformat": 4,
 "nbformat_minor": 2
}
