{
 "cells": [
  {
   "cell_type": "code",
   "execution_count": 4,
   "metadata": {},
   "outputs": [
    {
     "name": "stdout",
     "output_type": "stream",
     "text": [
      "Collecting pyfftw\n",
      "  Using cached https://files.pythonhosted.org/packages/c2/2e/b25edc6960fc837e915eb1b38e5f0e3013e32e90aff14a1d0f4556b3d145/pyFFTW-0.10.4.tar.gz\n",
      "Building wheels for collected packages: pyfftw\n",
      "  Running setup.py bdist_wheel for pyfftw ... \u001b[?25lerror\n",
      "  Complete output from command /home/adc563/pytorch-cpu/py3.6.3/bin/python3 -u -c \"import setuptools, tokenize;__file__='/state/partition1/job-9792138/pip-install-7agt2c8w/pyfftw/setup.py';f=getattr(tokenize, 'open', open)(__file__);code=f.read().replace('\\r\\n', '\\n');f.close();exec(compile(code, __file__, 'exec'))\" bdist_wheel -d /state/partition1/job-9792138/pip-wheel-hrdhxmlz --python-tag cp36:\n",
      "  Compiling /state/partition1/job-9792138/pip-install-7agt2c8w/pyfftw/pyfftw/pyfftw.pyx because it depends on /share/apps/python3/3.6.3/intel/lib/python3.6/site-packages/Cython-0.28.3-py3.6-linux-x86_64.egg/Cython/Includes/numpy/__init__.pxd.\n",
      "  [1/1] Cythonizing /state/partition1/job-9792138/pip-install-7agt2c8w/pyfftw/pyfftw/pyfftw.pyx\n",
      "  running bdist_wheel\n",
      "  running build\n",
      "  running build_py\n",
      "  creating build\n",
      "  creating build/lib.linux-x86_64-3.6\n",
      "  creating build/lib.linux-x86_64-3.6/pyfftw\n",
      "  copying pyfftw/version.py -> build/lib.linux-x86_64-3.6/pyfftw\n",
      "  copying pyfftw/__init__.py -> build/lib.linux-x86_64-3.6/pyfftw\n",
      "  creating build/lib.linux-x86_64-3.6/pyfftw/builders\n",
      "  copying pyfftw/builders/_utils.py -> build/lib.linux-x86_64-3.6/pyfftw/builders\n",
      "  copying pyfftw/builders/builders.py -> build/lib.linux-x86_64-3.6/pyfftw/builders\n",
      "  copying pyfftw/builders/__init__.py -> build/lib.linux-x86_64-3.6/pyfftw/builders\n",
      "  creating build/lib.linux-x86_64-3.6/pyfftw/interfaces\n",
      "  copying pyfftw/interfaces/cache.py -> build/lib.linux-x86_64-3.6/pyfftw/interfaces\n",
      "  copying pyfftw/interfaces/numpy_fft.py -> build/lib.linux-x86_64-3.6/pyfftw/interfaces\n",
      "  copying pyfftw/interfaces/_utils.py -> build/lib.linux-x86_64-3.6/pyfftw/interfaces\n",
      "  copying pyfftw/interfaces/scipy_fftpack.py -> build/lib.linux-x86_64-3.6/pyfftw/interfaces\n",
      "  copying pyfftw/interfaces/__init__.py -> build/lib.linux-x86_64-3.6/pyfftw/interfaces\n",
      "  running build_ext\n",
      "  building 'pyfftw.pyfftw' extension\n",
      "  creating build/temp.linux-x86_64-3.6\n",
      "  creating build/temp.linux-x86_64-3.6/state\n",
      "  creating build/temp.linux-x86_64-3.6/state/partition1\n",
      "  creating build/temp.linux-x86_64-3.6/state/partition1/job-9792138\n",
      "  creating build/temp.linux-x86_64-3.6/state/partition1/job-9792138/pip-install-7agt2c8w\n",
      "  creating build/temp.linux-x86_64-3.6/state/partition1/job-9792138/pip-install-7agt2c8w/pyfftw\n",
      "  creating build/temp.linux-x86_64-3.6/state/partition1/job-9792138/pip-install-7agt2c8w/pyfftw/pyfftw\n",
      "  icc -fno-strict-aliasing -Wsign-compare -Wunreachable-code -DNDEBUG -g -O3 -Wall -Wstrict-prototypes -fPIC -I/state/partition1/job-9792138/pip-install-7agt2c8w/pyfftw/include -I/state/partition1/job-9792138/pip-install-7agt2c8w/pyfftw/pyfftw -I/home/adc563/pytorch-cpu/py3.6.3/lib/python3.6/site-packages/numpy/core/include -I/share/apps/python3/3.6.3/intel/include/python3.6m -c /state/partition1/job-9792138/pip-install-7agt2c8w/pyfftw/pyfftw/pyfftw.c -o build/temp.linux-x86_64-3.6/state/partition1/job-9792138/pip-install-7agt2c8w/pyfftw/pyfftw/pyfftw.o\n",
      "  In file included from /home/adc563/pytorch-cpu/py3.6.3/lib/python3.6/site-packages/numpy/core/include/numpy/ndarraytypes.h(1821),\n",
      "                   from /home/adc563/pytorch-cpu/py3.6.3/lib/python3.6/site-packages/numpy/core/include/numpy/ndarrayobject.h(18),\n",
      "                   from /home/adc563/pytorch-cpu/py3.6.3/lib/python3.6/site-packages/numpy/core/include/numpy/arrayobject.h(4),\n",
      "                   from /state/partition1/job-9792138/pip-install-7agt2c8w/pyfftw/pyfftw/pyfftw.c(598):\n",
      "  /home/adc563/pytorch-cpu/py3.6.3/lib/python3.6/site-packages/numpy/core/include/numpy/npy_1_7_deprecated_api.h(15): warning #1224: #warning directive: \"Using deprecated NumPy API, disable it by \"          \"#defining NPY_NO_DEPRECATED_API NPY_1_7_API_VERSION\"\n",
      "    #warning \"Using deprecated NumPy API, disable it by \" \\\n",
      "     ^\n",
      "  \n",
      "  /state/partition1/job-9792138/pip-install-7agt2c8w/pyfftw/pyfftw/pyfftw.c(602): catastrophic error: cannot open source file \"fftw3.h\"\n",
      "    #include \"fftw3.h\"\n",
      "                      ^\n",
      "  \n",
      "  compilation aborted for /state/partition1/job-9792138/pip-install-7agt2c8w/pyfftw/pyfftw/pyfftw.c (code 4)\n",
      "  error: command 'icc' failed with exit status 4\n",
      "  \n",
      "  ----------------------------------------\n",
      "\u001b[31m  Failed building wheel for pyfftw\u001b[0m\n",
      "\u001b[?25h  Running setup.py clean for pyfftw\n",
      "Failed to build pyfftw\n",
      "Installing collected packages: pyfftw\n",
      "  Running setup.py install for pyfftw ... \u001b[?25lerror\n",
      "    Complete output from command /home/adc563/pytorch-cpu/py3.6.3/bin/python3 -u -c \"import setuptools, tokenize;__file__='/state/partition1/job-9792138/pip-install-7agt2c8w/pyfftw/setup.py';f=getattr(tokenize, 'open', open)(__file__);code=f.read().replace('\\r\\n', '\\n');f.close();exec(compile(code, __file__, 'exec'))\" install --record /state/partition1/job-9792138/pip-record-p3mdx7r3/install-record.txt --single-version-externally-managed --compile --install-headers /home/adc563/pytorch-cpu/py3.6.3/include/site/python3.6/pyfftw:\n",
      "    running install\n",
      "    running build\n",
      "    running build_py\n",
      "    running build_ext\n",
      "    building 'pyfftw.pyfftw' extension\n",
      "    creating build/temp.linux-x86_64-3.6\n",
      "    creating build/temp.linux-x86_64-3.6/state\n",
      "    creating build/temp.linux-x86_64-3.6/state/partition1\n",
      "    creating build/temp.linux-x86_64-3.6/state/partition1/job-9792138\n",
      "    creating build/temp.linux-x86_64-3.6/state/partition1/job-9792138/pip-install-7agt2c8w\n",
      "    creating build/temp.linux-x86_64-3.6/state/partition1/job-9792138/pip-install-7agt2c8w/pyfftw\n",
      "    creating build/temp.linux-x86_64-3.6/state/partition1/job-9792138/pip-install-7agt2c8w/pyfftw/pyfftw\n",
      "    icc -fno-strict-aliasing -Wsign-compare -Wunreachable-code -DNDEBUG -g -O3 -Wall -Wstrict-prototypes -fPIC -I/state/partition1/job-9792138/pip-install-7agt2c8w/pyfftw/include -I/state/partition1/job-9792138/pip-install-7agt2c8w/pyfftw/pyfftw -I/home/adc563/pytorch-cpu/py3.6.3/lib/python3.6/site-packages/numpy/core/include -I/share/apps/python3/3.6.3/intel/include/python3.6m -c /state/partition1/job-9792138/pip-install-7agt2c8w/pyfftw/pyfftw/pyfftw.c -o build/temp.linux-x86_64-3.6/state/partition1/job-9792138/pip-install-7agt2c8w/pyfftw/pyfftw/pyfftw.o\n",
      "    In file included from /home/adc563/pytorch-cpu/py3.6.3/lib/python3.6/site-packages/numpy/core/include/numpy/ndarraytypes.h(1821),\n",
      "                     from /home/adc563/pytorch-cpu/py3.6.3/lib/python3.6/site-packages/numpy/core/include/numpy/ndarrayobject.h(18),\n",
      "                     from /home/adc563/pytorch-cpu/py3.6.3/lib/python3.6/site-packages/numpy/core/include/numpy/arrayobject.h(4),\n",
      "                     from /state/partition1/job-9792138/pip-install-7agt2c8w/pyfftw/pyfftw/pyfftw.c(598):\n",
      "    /home/adc563/pytorch-cpu/py3.6.3/lib/python3.6/site-packages/numpy/core/include/numpy/npy_1_7_deprecated_api.h(15): warning #1224: #warning directive: \"Using deprecated NumPy API, disable it by \"          \"#defining NPY_NO_DEPRECATED_API NPY_1_7_API_VERSION\"\n",
      "      #warning \"Using deprecated NumPy API, disable it by \" \\\n",
      "       ^\n",
      "    \n",
      "    /state/partition1/job-9792138/pip-install-7agt2c8w/pyfftw/pyfftw/pyfftw.c(602): catastrophic error: cannot open source file \"fftw3.h\"\n",
      "      #include \"fftw3.h\"\n",
      "                        ^\n",
      "    \n",
      "    compilation aborted for /state/partition1/job-9792138/pip-install-7agt2c8w/pyfftw/pyfftw/pyfftw.c (code 4)\n",
      "    error: command 'icc' failed with exit status 4\n",
      "    \n",
      "    ----------------------------------------\n",
      "\u001b[31mCommand \"/home/adc563/pytorch-cpu/py3.6.3/bin/python3 -u -c \"import setuptools, tokenize;__file__='/state/partition1/job-9792138/pip-install-7agt2c8w/pyfftw/setup.py';f=getattr(tokenize, 'open', open)(__file__);code=f.read().replace('\\r\\n', '\\n');f.close();exec(compile(code, __file__, 'exec'))\" install --record /state/partition1/job-9792138/pip-record-p3mdx7r3/install-record.txt --single-version-externally-managed --compile --install-headers /home/adc563/pytorch-cpu/py3.6.3/include/site/python3.6/pyfftw\" failed with error code 1 in /state/partition1/job-9792138/pip-install-7agt2c8w/pyfftw/\u001b[0m\n"
     ]
    },
    {
     "name": "stdout",
     "output_type": "stream",
     "text": [
      "\u001b[?25h"
     ]
    }
   ],
   "source": [
    "! pip install pyfftw"
   ]
  },
  {
   "cell_type": "code",
   "execution_count": 5,
   "metadata": {},
   "outputs": [
    {
     "ename": "ModuleNotFoundError",
     "evalue": "No module named 'pyfftw'",
     "output_type": "error",
     "traceback": [
      "\u001b[0;31m---------------------------------------------------------------------------\u001b[0m",
      "\u001b[0;31mModuleNotFoundError\u001b[0m                       Traceback (most recent call last)",
      "\u001b[0;32m<ipython-input-5-1dffee0b3d50>\u001b[0m in \u001b[0;36m<module>\u001b[0;34m\u001b[0m\n\u001b[0;32m----> 1\u001b[0;31m \u001b[0;32mimport\u001b[0m \u001b[0mpyfftw\u001b[0m\u001b[0;34m\u001b[0m\u001b[0m\n\u001b[0m",
      "\u001b[0;31mModuleNotFoundError\u001b[0m: No module named 'pyfftw'"
     ]
    }
   ],
   "source": [
    "import pyfftw"
   ]
  },
  {
   "cell_type": "code",
   "execution_count": 8,
   "metadata": {},
   "outputs": [
    {
     "name": "stdout",
     "output_type": "stream",
     "text": [
      "/usr/bin/sh: line 0: cd: seda_pylians/Pylians: Not a directory\r\n"
     ]
    },
    {
     "ename": "ModuleNotFoundError",
     "evalue": "No module named 'Pk_library'",
     "output_type": "error",
     "traceback": [
      "\u001b[0;31m---------------------------------------------------------------------------\u001b[0m",
      "\u001b[0;31mModuleNotFoundError\u001b[0m                       Traceback (most recent call last)",
      "\u001b[0;32m<ipython-input-8-0db49252c635>\u001b[0m in \u001b[0;36m<module>\u001b[0;34m\u001b[0m\n\u001b[1;32m      1\u001b[0m \u001b[0mget_ipython\u001b[0m\u001b[0;34m(\u001b[0m\u001b[0;34m)\u001b[0m\u001b[0;34m.\u001b[0m\u001b[0msystem\u001b[0m\u001b[0;34m(\u001b[0m\u001b[0;34m'cd seda_pylians/Pylians'\u001b[0m\u001b[0;34m)\u001b[0m\u001b[0;34m\u001b[0m\u001b[0m\n\u001b[0;32m----> 2\u001b[0;31m \u001b[0;32mimport\u001b[0m \u001b[0mPk_library\u001b[0m \u001b[0;32mas\u001b[0m \u001b[0mPKL\u001b[0m\u001b[0;34m\u001b[0m\u001b[0m\n\u001b[0m",
      "\u001b[0;31mModuleNotFoundError\u001b[0m: No module named 'Pk_library'"
     ]
    }
   ],
   "source": [
    "!cd seda_pylians/Pylians\n",
    "import Pk_library as PKL"
   ]
  },
  {
   "cell_type": "code",
   "execution_count": 3,
   "metadata": {},
   "outputs": [],
   "source": [
    "import numpy as np"
   ]
  },
  {
   "cell_type": "code",
   "execution_count": 1,
   "metadata": {},
   "outputs": [
    {
     "name": "stderr",
     "output_type": "stream",
     "text": [
      "/share/apps/python3/3.6.3/intel/lib/python3.6/site-packages/h5py-2.7.1-py3.6-linux-x86_64.egg/h5py/__init__.py:36: FutureWarning: Conversion of the second argument of issubdtype from `float` to `np.floating` is deprecated. In future, it will be treated as `np.float64 == np.dtype(float).type`.\n",
      "  from ._conv import register_converters as _register_converters\n"
     ]
    }
   ],
   "source": [
    "import pandas as pd\n",
    "import h5py\n",
    "import numpy as np\n",
    "import matplotlib.pyplot as plt\n",
    "from scipy import stats\n",
    "\n",
    "%matplotlib inline"
   ]
  },
  {
   "cell_type": "code",
   "execution_count": 2,
   "metadata": {},
   "outputs": [],
   "source": [
    "datapath=''\n",
    "redshift = '1.0'\n",
    "f = h5py.File(datapath+'fields_z='+redshift+'.hdf5', 'r')\n",
    "f=f['delta_HI']\n"
   ]
  },
  {
   "cell_type": "code",
   "execution_count": 20,
   "metadata": {},
   "outputs": [],
   "source": [
    "delta = f[:128,:128,:128]\n",
    "#delta = np.squeeze(dd)"
   ]
  },
  {
   "cell_type": "code",
   "execution_count": 21,
   "metadata": {},
   "outputs": [],
   "source": [
    "delta /= np.mean(delta, dtype=np.float64);  \n",
    "delta -= 1.0\n",
    "delta = delta.astype(np.float32)\n",
    "\n",
    "BoxSize = 75.0/2048*128\n",
    "axis=0\n",
    "MAS='CIC'\n",
    "threads=1"
   ]
  },
  {
   "cell_type": "code",
   "execution_count": 22,
   "metadata": {},
   "outputs": [],
   "source": [
    "Pk = PKL.Pk(delta, BoxSize, axis, MAS, threads)"
   ]
  },
  {
   "cell_type": "code",
   "execution_count": null,
   "metadata": {},
   "outputs": [],
   "source": [
    "plt.plot(np.log(Pk.k3D), np.log(Pk.Pk[:,0]))\n",
    "plt.xlabel('log(Pk.k3D)')\n",
    "plt.ylabel('log(Pk.k3D)')"
   ]
  },
  {
   "cell_type": "code",
   "execution_count": 9,
   "metadata": {},
   "outputs": [],
   "source": [
    "dat = np.loadtxt('Pk_HI_z=1.0.txt')"
   ]
  },
  {
   "cell_type": "code",
   "execution_count": 14,
   "metadata": {},
   "outputs": [],
   "source": [
    "dat1 = np.loadtxt('[128_256,128_256,128_256].txt')"
   ]
  },
  {
   "cell_type": "code",
   "execution_count": 15,
   "metadata": {},
   "outputs": [],
   "source": [
    "dat2 = np.loadtxt('[1664_1792,1664_1792,1664_1792].txt')"
   ]
  },
  {
   "cell_type": "code",
   "execution_count": 16,
   "metadata": {},
   "outputs": [],
   "source": [
    "dat3 = np.loadtxt('[_128,_128,_128].txt')"
   ]
  },
  {
   "cell_type": "code",
   "execution_count": 23,
   "metadata": {},
   "outputs": [
    {
     "data": {
      "text/plain": [
       "<matplotlib.legend.Legend at 0x2ac4dfe62d68>"
      ]
     },
     "execution_count": 23,
     "metadata": {},
     "output_type": "execute_result"
    },
    {
     "data": {
      "image/png": "[encoded data removed]",
      "text/plain": [
       "<matplotlib.figure.Figure at 0x2ac4dfe0e9b0>"
      ]
     },
     "metadata": {
      "needs_background": "light"
     },
     "output_type": "display_data"
    }
   ],
   "source": [
    "a=plt.plot(np.log(Pk.k3D), np.log(Pk.Pk[:,0]),'r',label='jaas')\n",
    "b=plt.plot(np.log(dat3[:,0]), np.log(dat3[:,1]),'b', label='original')\n",
    "plt.xlabel('log(Pk.k3D)')\n",
    "plt.ylabel('log(Pk.k3D)')\n",
    "plt.legend()\n"
   ]
  },
  {
   "cell_type": "code",
   "execution_count": 18,
   "metadata": {},
   "outputs": [
    {
     "data": {
      "text/plain": [
       "<matplotlib.legend.Legend at 0x2ac4dfd996a0>"
      ]
     },
     "execution_count": 18,
     "metadata": {},
     "output_type": "execute_result"
    },
    {
     "data": {
      "image/png": "[encoded data removed]",
      "text/plain": [
       "<matplotlib.figure.Figure at 0x2ac4dfc95128>"
      ]
     },
     "metadata": {
      "needs_background": "light"
     },
     "output_type": "display_data"
    }
   ],
   "source": [
    "delta1 = f[128:256, 128:256, 128:256] \n",
    "\n",
    "delta1 /= np.mean(delta1, dtype=np.float64);  \n",
    "delta1 -= 1.0\n",
    "delta1 = delta1.astype(np.float32)\n",
    "\n",
    "BoxSize = 75.0/2048*128\n",
    "axis=0\n",
    "MAS='CIC'\n",
    "threads=1\n",
    "\n",
    "Pk = PKL.Pk(delta1, BoxSize, axis, MAS, threads)\n",
    "\n",
    "a=plt.plot(np.log(Pk.k3D), np.log(Pk.Pk[:,0]),'r',label='jaas')\n",
    "b=plt.plot(np.log(dat1[:,0]), np.log(dat1[:,1]),'b', label='original')\n",
    "plt.xlabel('log(Pk.k3D)')\n",
    "plt.ylabel('log(Pk.k3D)')\n",
    "plt.legend()"
   ]
  },
  {
   "cell_type": "code",
   "execution_count": 17,
   "metadata": {},
   "outputs": [
    {
     "data": {
      "text/plain": [
       "<matplotlib.legend.Legend at 0x2ac4dfd2f1d0>"
      ]
     },
     "execution_count": 17,
     "metadata": {},
     "output_type": "execute_result"
    },
    {
     "data": {
      "image/png": "[encoded data removed]",
      "text/plain": [
       "<matplotlib.figure.Figure at 0x2ac4dfc1ee10>"
      ]
     },
     "metadata": {
      "needs_background": "light"
     },
     "output_type": "display_data"
    }
   ],
   "source": [
    "delta2 = f[1664:1792, 1664:1792, 1664:1792]\n",
    "\n",
    "delta2 /= np.mean(delta2, dtype=np.float64);  \n",
    "delta2 -= 1.0\n",
    "delta2 = delta2.astype(np.float32)\n",
    "\n",
    "BoxSize = 75.0/2048*128\n",
    "axis=0\n",
    "MAS='CIC'\n",
    "threads=1\n",
    "\n",
    "Pk = PKL.Pk(delta2, BoxSize, axis, MAS, threads)\n",
    "\n",
    "a=plt.plot(np.log(Pk.k3D), np.log(Pk.Pk[:,0]),'r',label='jaas')\n",
    "b=plt.plot(np.log(dat1[:,0]), np.log(dat2[:,1]),'b', label='original')\n",
    "plt.xlabel('log(Pk.k3D)')\n",
    "plt.ylabel('log(Pk.k3D)')\n",
    "plt.legend()"
   ]
  },
  {
   "cell_type": "code",
   "execution_count": 24,
   "metadata": {},
   "outputs": [
    {
     "data": {
      "text/plain": [
       "array([1.3000e+01, 3.3000e+01, 7.9000e+01, 1.1700e+02, 2.0500e+02,\n",
       "       2.3500e+02, 3.6900e+02, 4.3300e+02, 5.8500e+02, 6.7900e+02,\n",
       "       8.1300e+02, 9.8500e+02, 1.1830e+03, 1.2690e+03, 1.5370e+03,\n",
       "       1.6530e+03, 1.9630e+03, 2.1210e+03, 2.4130e+03, 2.6350e+03,\n",
       "       2.8770e+03, 3.1690e+03, 3.5070e+03, 3.6850e+03, 4.1650e+03,\n",
       "       4.3770e+03, 4.8550e+03, 4.9290e+03, 5.5810e+03, 5.6790e+03,\n",
       "       6.3850e+03, 6.5530e+03, 7.1250e+03, 7.4470e+03, 7.9290e+03,\n",
       "       8.3530e+03, 8.7750e+03, 9.3130e+03, 9.8410e+03, 1.0191e+04,\n",
       "       1.0897e+04, 1.1301e+04, 1.2025e+04, 1.2423e+04, 1.3021e+04,\n",
       "       1.3405e+04, 1.4247e+04, 1.4713e+04, 1.5489e+04, 1.5913e+04,\n",
       "       1.6879e+04, 1.7193e+04, 1.8157e+04, 1.8339e+04, 1.9573e+04,\n",
       "       1.9941e+04, 2.0629e+04, 2.1655e+04, 2.2113e+04, 2.3185e+04,\n",
       "       2.3667e+04, 2.4385e+04, 2.5749e+04, 2.5069e+04, 2.5546e+04,\n",
       "       2.4282e+04, 2.4304e+04, 2.3754e+04, 2.3080e+04, 2.2500e+04,\n",
       "       2.2072e+04, 2.1358e+04, 2.1030e+04, 1.9948e+04, 1.9752e+04,\n",
       "       1.8454e+04, 1.8028e+04, 1.7370e+04, 1.6426e+04, 1.5630e+04,\n",
       "       1.4770e+04, 1.4202e+04, 1.3072e+04, 1.2238e+04, 1.1262e+04,\n",
       "       1.0186e+04, 9.6000e+03, 8.1640e+03, 7.3920e+03, 6.3280e+03,\n",
       "       5.3830e+03, 4.6410e+03, 4.1260e+03, 3.5790e+03, 3.0430e+03,\n",
       "       2.4550e+03, 2.3430e+03, 1.8190e+03, 1.5240e+03, 1.2280e+03,\n",
       "       1.0950e+03, 8.3200e+02, 5.5000e+02, 4.0800e+02, 3.6400e+02,\n",
       "       2.2800e+02, 1.0900e+02, 4.8000e+01, 2.8000e+01, 4.0000e+00])"
      ]
     },
     "execution_count": 24,
     "metadata": {},
     "output_type": "execute_result"
    }
   ],
   "source": [
    "Pk.Nmodes3D"
   ]
  },
  {
   "cell_type": "code",
   "execution_count": null,
   "metadata": {},
   "outputs": [],
   "source": []
  }
 ],
 "metadata": {
  "kernelspec": {
   "display_name": "Python 3",
   "language": "python",
   "name": "python3"
  },
  "language_info": {
   "codemirror_mode": {
    "name": "ipython",
    "version": 3
   },
   "file_extension": ".py",
   "mimetype": "text/x-python",
   "name": "python",
   "nbconvert_exporter": "python",
   "pygments_lexer": "ipython3",
   "version": "3.6.3"
  }
 },
 "nbformat": 4,
 "nbformat_minor": 2
}
