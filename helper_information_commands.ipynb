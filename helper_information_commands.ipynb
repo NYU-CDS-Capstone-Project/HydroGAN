{
 "cells": [
  {
   "cell_type": "markdown",
   "metadata": {},
   "source": [
    "### Information about the data"
   ]
  },
  {
   "cell_type": "markdown",
   "metadata": {},
   "source": [
    "This notebook contains all the scripts related to reading and loading the HDF5 files located at Simons Foundation link for different redshifts.\n",
    "\n",
    "http://voms.simonsfoundation.org:50013/AcUAMhaaHa3enl5OG9fdLXMg7waz2ba/HI_bias\n",
    "\n",
    "The file names are fields_z=X.hdf5, Where X represents the redshift. \n",
    "\n",
    "The files contain only 2 blocks, delta_HI and delta_m, representing the HI (neutral hydrogen) and total matter mass. Each block is a numpy array with 2048x2048x2048 elements. The side of the box is 75 Mpc/h, so the element delta_HI[A,B,C] represents the HI mass in the spatial position:\n",
    "\n",
    "* X = [Ax75/2048 - (A+1)x75/2048]\n",
    "* Y = [Bx75/2048 - (B+1)x75/2048]\n",
    "* Z = [Cx75/2048 - (C+1)x75/2048]\n",
    "\n",
    "where X,Y and Z goes from 0 to 75 Mpc/h and A,B and C run from 0 to 2047.\n",
    "\n",
    "These files have been generated from IllustrisTNG (https://phys.org/news/2018-02-astrophysicists-illustristng-advanced-universe-kind.html)"
   ]
  },
  {
   "cell_type": "markdown",
   "metadata": {
    "collapsed": true
   },
   "source": [
    "The redshift files are now loaded into NYU Prince cluster in Juan's /scratch folder (/scratch/jjz289/data)\n",
    "\n"
   ]
  },
  {
   "cell_type": "markdown",
   "metadata": {
    "collapsed": true
   },
   "source": [
    "### Copying files form /scratch/jjz289/data to own scratch folder"
   ]
  },
  {
   "cell_type": "code",
   "execution_count": null,
   "metadata": {
    "collapsed": true
   },
   "outputs": [],
   "source": []
  }
 ],
 "metadata": {
  "kernelspec": {
   "display_name": "Python 3",
   "language": "python",
   "name": "python3"
  },
  "language_info": {
   "codemirror_mode": {
    "name": "ipython",
    "version": 3
   },
   "file_extension": ".py",
   "mimetype": "text/x-python",
   "name": "python",
   "nbconvert_exporter": "python",
   "pygments_lexer": "ipython3",
   "version": "3.6.1"
  }
 },
 "nbformat": 4,
 "nbformat_minor": 2
}
