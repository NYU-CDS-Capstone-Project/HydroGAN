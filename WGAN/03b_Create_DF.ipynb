{
 "cells": [
  {
   "cell_type": "code",
   "execution_count": 7,
   "metadata": {},
   "outputs": [],
   "source": [
    "import random\n",
    "import numpy as np\n",
    "import pandas as pd\n",
    "\n",
    "import matplotlib.pyplot as plt\n",
    "%matplotlib inline\n",
    "\n",
    "import h5py\n",
    "from power_spectrum_utils import power_spectrum_np\n",
    "from wgan_utils import define_test, check_coords\n",
    "\n",
    "\n",
    "from sklearn.preprocessing import StandardScaler, MinMaxScaler"
   ]
  },
  {
   "cell_type": "code",
   "execution_count": 8,
   "metadata": {
    "collapsed": true
   },
   "outputs": [],
   "source": [
    "mean_5=14280.155\n",
    "std_5=89914.586\n",
    "max_5=47676240"
   ]
  },
  {
   "cell_type": "code",
   "execution_count": 25,
   "metadata": {
    "collapsed": true
   },
   "outputs": [],
   "source": [
    "def get_samples(file, s_sample, nsamples, test_coords):\n",
    "    #n is size of minibatch, get valid samples (not intersecting with test_coords)\n",
    "    sample_list=[]\n",
    "    m=2048-s_sample\n",
    "    for n in range(nsamples):\n",
    "        #print(\"Sample No = \" + str(n + 1) + \" / \" + str(nsamples))\n",
    "        sample_valid=False\n",
    "        while sample_valid==False:\n",
    "            x = random.randint(0,m)\n",
    "            y = random.randint(0,m)\n",
    "            z = random.randint(0,m)\n",
    "            sample_coords = {'x':[x,x+s_sample], \n",
    "                             'y':[y,y+s_sample], \n",
    "                             'z':[z,z+s_sample]}\n",
    "            \n",
    "            sample_valid = check_coords(test_coords, sample_coords)\n",
    "        \n",
    "        sample_list.append(sample_coords)\n",
    "    \n",
    "    #Load cube and get samples and convert them to np.arrays\n",
    "    sample_array=[]\n",
    "    #f file has to be opened outisde the function\n",
    "    \n",
    "    for c in sample_list:\n",
    "        a = f[c['x'][0]:c['x'][1],\n",
    "              c['y'][0]:c['y'][1],\n",
    "              c['z'][0]:c['z'][1]]\n",
    "        \n",
    "        #Modify here for 2D or 3D\n",
    "        sample_array.append(np.array(a))\n",
    "    \n",
    "    return np.array(sample_array)\n",
    "\n",
    "def build_df(n_samples):\n",
    "    col_list = ['mean', 'std', 'median', 'max', 'pk_mean', 'pk_std', 'pk_range', 'below_mean']\n",
    "    df = pd.DataFrame(index=list(range(n_samples)), columns=col_list)\n",
    "    no_pixels = s_sample**3\n",
    "    \n",
    "    for n in range(n_samples):\n",
    "        arr=get_samples(0, s_sample, 1, tc)\n",
    "        arr = arr[0]\n",
    "        \n",
    "        k, Pk = power_spectrum_np(arr, mean_5, s_sample)\n",
    "        \n",
    "        row = {'mean': arr.mean(), 'std': arr.std(), 'median': np.median(arr) , 'max': np.amax(arr), \n",
    "               'pk_mean': Pk.mean(), 'pk_std': Pk.std()  , 'pk_range': Pk[0]-Pk[-1] ,\n",
    "               'below_mean' : (arr< mean_5).sum() / no_pixels }\n",
    "               #'above_std' : 1 - ((arr [n]< 3*std_5 ).sum()) / no_pixels }\n",
    "        df.loc[n] = row\n",
    "    \n",
    "    #Standardize\n",
    "    scaler =  StandardScaler() #MinMaxScaler()\n",
    "    scaler.fit(df)\n",
    "    df = scaler.transform(df)\n",
    "    \n",
    "    return pd.DataFrame(df, columns=col_list)"
   ]
  },
  {
   "cell_type": "code",
   "execution_count": 10,
   "metadata": {
    "collapsed": true
   },
   "outputs": [],
   "source": [
    "redshift='5.0'\n",
    "s_sample = 64\n",
    "random.seed(1)\n",
    "tc=define_test(s_test=5, s_train=64)\n",
    "datapath='../../../../../'\n",
    "#mean_, nonz, std_,max_=[],[],[],[]\n",
    "\n",
    "f = h5py.File(datapath+'fields_z='+redshift+'.hdf5', 'r')\n",
    "f=f['delta_HI']"
   ]
  },
  {
   "cell_type": "code",
   "execution_count": 28,
   "metadata": {},
   "outputs": [
    {
     "data": {
      "text/html": [
       "<div>\n",
       "<style>\n",
       "    .dataframe thead tr:only-child th {\n",
       "        text-align: right;\n",
       "    }\n",
       "\n",
       "    .dataframe thead th {\n",
       "        text-align: left;\n",
       "    }\n",
       "\n",
       "    .dataframe tbody tr th {\n",
       "        vertical-align: top;\n",
       "    }\n",
       "</style>\n",
       "<table border=\"1\" class=\"dataframe\">\n",
       "  <thead>\n",
       "    <tr style=\"text-align: right;\">\n",
       "      <th></th>\n",
       "      <th>mean</th>\n",
       "      <th>std</th>\n",
       "      <th>median</th>\n",
       "      <th>max</th>\n",
       "      <th>pk_mean</th>\n",
       "      <th>pk_std</th>\n",
       "      <th>pk_range</th>\n",
       "      <th>below_mean</th>\n",
       "    </tr>\n",
       "  </thead>\n",
       "  <tbody>\n",
       "    <tr>\n",
       "      <th>0</th>\n",
       "      <td>-0.190491</td>\n",
       "      <td>-0.202530</td>\n",
       "      <td>0.118919</td>\n",
       "      <td>-0.318092</td>\n",
       "      <td>-0.155263</td>\n",
       "      <td>-0.156562</td>\n",
       "      <td>-0.152106</td>\n",
       "      <td>-0.028214</td>\n",
       "    </tr>\n",
       "    <tr>\n",
       "      <th>1</th>\n",
       "      <td>-0.448558</td>\n",
       "      <td>-0.465971</td>\n",
       "      <td>-1.510861</td>\n",
       "      <td>-0.400546</td>\n",
       "      <td>-0.167124</td>\n",
       "      <td>-0.165004</td>\n",
       "      <td>-0.160199</td>\n",
       "      <td>0.681612</td>\n",
       "    </tr>\n",
       "    <tr>\n",
       "      <th>2</th>\n",
       "      <td>-0.201181</td>\n",
       "      <td>-0.180256</td>\n",
       "      <td>-0.264498</td>\n",
       "      <td>-0.256943</td>\n",
       "      <td>-0.146284</td>\n",
       "      <td>-0.142732</td>\n",
       "      <td>-0.137076</td>\n",
       "      <td>0.122095</td>\n",
       "    </tr>\n",
       "    <tr>\n",
       "      <th>3</th>\n",
       "      <td>-0.356033</td>\n",
       "      <td>-0.340689</td>\n",
       "      <td>-0.482486</td>\n",
       "      <td>-0.353158</td>\n",
       "      <td>-0.163552</td>\n",
       "      <td>-0.163041</td>\n",
       "      <td>-0.158336</td>\n",
       "      <td>0.461006</td>\n",
       "    </tr>\n",
       "    <tr>\n",
       "      <th>4</th>\n",
       "      <td>-0.505492</td>\n",
       "      <td>-0.613394</td>\n",
       "      <td>-1.607464</td>\n",
       "      <td>-0.519299</td>\n",
       "      <td>-0.169537</td>\n",
       "      <td>-0.166862</td>\n",
       "      <td>-0.161786</td>\n",
       "      <td>0.847923</td>\n",
       "    </tr>\n",
       "  </tbody>\n",
       "</table>\n",
       "</div>"
      ],
      "text/plain": [
       "       mean       std    median       max   pk_mean    pk_std  pk_range  \\\n",
       "0 -0.190491 -0.202530  0.118919 -0.318092 -0.155263 -0.156562 -0.152106   \n",
       "1 -0.448558 -0.465971 -1.510861 -0.400546 -0.167124 -0.165004 -0.160199   \n",
       "2 -0.201181 -0.180256 -0.264498 -0.256943 -0.146284 -0.142732 -0.137076   \n",
       "3 -0.356033 -0.340689 -0.482486 -0.353158 -0.163552 -0.163041 -0.158336   \n",
       "4 -0.505492 -0.613394 -1.607464 -0.519299 -0.169537 -0.166862 -0.161786   \n",
       "\n",
       "   below_mean  \n",
       "0   -0.028214  \n",
       "1    0.681612  \n",
       "2    0.122095  \n",
       "3    0.461006  \n",
       "4    0.847923  "
      ]
     },
     "execution_count": 28,
     "metadata": {},
     "output_type": "execute_result"
    }
   ],
   "source": [
    "data = build_df(20000)\n",
    "data.to_csv('GMM_df.csv')\n",
    "data.head()"
   ]
  },
  {
   "cell_type": "code",
   "execution_count": 29,
   "metadata": {},
   "outputs": [
    {
     "data": {
      "text/plain": [
       "(20000, 8)"
      ]
     },
     "execution_count": 29,
     "metadata": {},
     "output_type": "execute_result"
    }
   ],
   "source": [
    "data.shape"
   ]
  },
  {
   "cell_type": "code",
   "execution_count": null,
   "metadata": {
    "collapsed": true
   },
   "outputs": [],
   "source": []
  }
 ],
 "metadata": {
  "kernelspec": {
   "display_name": "Python 3",
   "language": "python",
   "name": "python3"
  },
  "language_info": {
   "codemirror_mode": {
    "name": "ipython",
    "version": 3
   },
   "file_extension": ".py",
   "mimetype": "text/x-python",
   "name": "python",
   "nbconvert_exporter": "python",
   "pygments_lexer": "ipython3",
   "version": "3.6.1"
  }
 },
 "nbformat": 4,
 "nbformat_minor": 2
}
